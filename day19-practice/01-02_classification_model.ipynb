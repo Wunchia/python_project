{
 "cells": [
  {
   "cell_type": "markdown",
   "metadata": {},
   "source": [
    "对应 `tf.keras` 的01~02章节"
   ]
  },
  {
   "cell_type": "code",
   "metadata": {
    "ExecuteTime": {
     "end_time": "2025-01-21T12:58:13.833145Z",
     "start_time": "2025-01-21T12:57:44.305619Z"
    }
   },
   "source": [
    "import matplotlib as mpl\n",
    "import matplotlib.pyplot as plt\n",
    "%matplotlib inline\n",
    "import numpy as np\n",
    "import sklearn\n",
    "import pandas as pd\n",
    "import os\n",
    "import sys\n",
    "import time\n",
    "from tqdm.auto import tqdm\n",
    "import torch\n",
    "import torch.nn as nn\n",
    "import torch.nn.functional as F\n",
    "\n",
    "print(sys.version_info)\n",
    "for module in mpl, np, pd, sklearn, torch:\n",
    "    print(module.__name__, module.__version__)\n",
    "    \n",
    "device = torch.device(\"cuda:0\") if torch.cuda.is_available() else torch.device(\"cpu\")\n",
    "print(device)\n"
   ],
   "outputs": [
    {
     "name": "stdout",
     "output_type": "stream",
     "text": [
      "sys.version_info(major=3, minor=12, micro=3, releaselevel='final', serial=0)\n",
      "matplotlib 3.10.0\n",
      "numpy 1.26.4\n",
      "pandas 2.2.3\n",
      "sklearn 1.6.0\n",
      "torch 2.5.1+cpu\n",
      "cpu\n"
     ]
    }
   ],
   "execution_count": 1
  },
  {
   "cell_type": "code",
   "source": [
    "28*28"
   ],
   "metadata": {
    "collapsed": false,
    "ExecuteTime": {
     "end_time": "2025-01-21T12:58:13.837642Z",
     "start_time": "2025-01-21T12:58:13.833145Z"
    }
   },
   "outputs": [
    {
     "data": {
      "text/plain": [
       "784"
      ]
     },
     "execution_count": 2,
     "metadata": {},
     "output_type": "execute_result"
    }
   ],
   "execution_count": 2
  },
  {
   "cell_type": "markdown",
   "metadata": {},
   "source": "## 数据准备1，为了看灰度图片"
  },
  {
   "cell_type": "code",
   "metadata": {
    "ExecuteTime": {
     "end_time": "2025-01-21T12:58:16.776874Z",
     "start_time": "2025-01-21T12:58:13.837642Z"
    }
   },
   "source": [
    "from torchvision import datasets\n",
    "from torchvision.transforms import ToTensor\n",
    "from torchvision import transforms\n",
    "\n",
    "\n",
    "# 定义数据集的变换\n",
    "transform = transforms.Compose([\n",
    "])\n",
    "# fashion_mnist图像分类数据集，衣服分类，60000张训练图片，10000张测试图片\n",
    "train_ds = datasets.FashionMNIST(\n",
    "    root=\"data\",\n",
    "    train=True,\n",
    "    download=True,\n",
    "    transform=transform\n",
    ")\n",
    "\n",
    "test_ds = datasets.FashionMNIST(\n",
    "    root=\"data\",\n",
    "    train=False,\n",
    "    download=True,\n",
    "    transform=transform\n",
    ")\n",
    "\n",
    "# torchvision 数据集里没有提供训练集和验证集的划分\n",
    "# 当然也可以用 torch.utils.data.Dataset 实现人为划分"
   ],
   "outputs": [],
   "execution_count": 3
  },
  {
   "cell_type": "code",
   "source": [
    "type(train_ds)"
   ],
   "metadata": {
    "collapsed": false,
    "ExecuteTime": {
     "end_time": "2025-01-21T12:58:16.781078Z",
     "start_time": "2025-01-21T12:58:16.776874Z"
    }
   },
   "outputs": [
    {
     "data": {
      "text/plain": [
       "torchvision.datasets.mnist.FashionMNIST"
      ]
     },
     "execution_count": 4,
     "metadata": {},
     "output_type": "execute_result"
    }
   ],
   "execution_count": 4
  },
  {
   "cell_type": "code",
   "source": [
    "len(train_ds)"
   ],
   "metadata": {
    "collapsed": false,
    "ExecuteTime": {
     "end_time": "2025-01-21T12:58:16.785723Z",
     "start_time": "2025-01-21T12:58:16.781078Z"
    }
   },
   "outputs": [
    {
     "data": {
      "text/plain": [
       "60000"
      ]
     },
     "execution_count": 5,
     "metadata": {},
     "output_type": "execute_result"
    }
   ],
   "execution_count": 5
  },
  {
   "cell_type": "code",
   "source": [
    "type(train_ds[0])"
   ],
   "metadata": {
    "collapsed": false,
    "ExecuteTime": {
     "end_time": "2025-01-21T12:58:16.789241Z",
     "start_time": "2025-01-21T12:58:16.785723Z"
    }
   },
   "outputs": [
    {
     "data": {
      "text/plain": [
       "tuple"
      ]
     },
     "execution_count": 6,
     "metadata": {},
     "output_type": "execute_result"
    }
   ],
   "execution_count": 6
  },
  {
   "cell_type": "code",
   "metadata": {
    "ExecuteTime": {
     "end_time": "2025-01-21T12:58:16.792092Z",
     "start_time": "2025-01-21T12:58:16.789241Z"
    }
   },
   "source": [
    "# 通过id取数据，取到的是一个元祖,是第一个样本,在训练时，把特征和标签分开\n",
    "img, label = train_ds[0]"
   ],
   "outputs": [],
   "execution_count": 7
  },
  {
   "metadata": {
    "ExecuteTime": {
     "end_time": "2025-01-21T12:58:16.795773Z",
     "start_time": "2025-01-21T12:58:16.792092Z"
    }
   },
   "cell_type": "code",
   "source": "type(img) #tensor中文是 张量,和numpy的ndarray类似",
   "outputs": [
    {
     "data": {
      "text/plain": [
       "PIL.Image.Image"
      ]
     },
     "execution_count": 8,
     "metadata": {},
     "output_type": "execute_result"
    }
   ],
   "execution_count": 8
  },
  {
   "metadata": {
    "ExecuteTime": {
     "end_time": "2025-01-21T12:58:16.832092Z",
     "start_time": "2025-01-21T12:58:16.795773Z"
    }
   },
   "cell_type": "code",
   "source": "img",
   "outputs": [
    {
     "data": {
      "text/plain": [
       "<PIL.Image.Image image mode=L size=28x28>"
      ],
      "image/png": "[encoded data removed]",
      "image/jpeg": "[encoded data removed]"
     },
     "execution_count": 9,
     "metadata": {},
     "output_type": "execute_result"
    }
   ],
   "execution_count": 9
  },
  {
   "cell_type": "code",
   "source": [
    "type(img)"
   ],
   "metadata": {
    "collapsed": false,
    "ExecuteTime": {
     "end_time": "2025-01-21T12:58:16.836679Z",
     "start_time": "2025-01-21T12:58:16.832092Z"
    }
   },
   "outputs": [
    {
     "data": {
      "text/plain": [
       "PIL.Image.Image"
      ]
     },
     "execution_count": 10,
     "metadata": {},
     "output_type": "execute_result"
    }
   ],
   "execution_count": 10
  },
  {
   "cell_type": "code",
   "source": [
    "label"
   ],
   "metadata": {
    "collapsed": false,
    "ExecuteTime": {
     "end_time": "2025-01-21T12:58:16.840631Z",
     "start_time": "2025-01-21T12:58:16.836679Z"
    }
   },
   "outputs": [
    {
     "data": {
      "text/plain": [
       "9"
      ]
     },
     "execution_count": 11,
     "metadata": {},
     "output_type": "execute_result"
    }
   ],
   "execution_count": 11
  },
  {
   "cell_type": "code",
   "source": [
    "# 显示图片，这里需要把transforms.ToTensor(),进行归一化注释掉，否则是不行的\n",
    "def show_img_content(img):\n",
    "    from PIL import Image\n",
    "\n",
    "    # 打开一个图像文件\n",
    "    # img = Image.open(img)\n",
    "\n",
    "\n",
    "    print(\"图像大小:\", img.size)\n",
    "    print(\"图像模式:\", img.mode)\n",
    "\n",
    "\n",
    "    # 如果图像是单通道的，比如灰度图，你可以这样获取像素值列表：\n",
    "    if img.mode == 'L':\n",
    "        pixel_values = list(img.getdata())\n",
    "        print(pixel_values)\n",
    "show_img_content(img) #这里必须把上面的 transforms.ToTensor(), # 转换为tensor，进行归一化注释掉，否则是不行的"
   ],
   "metadata": {
    "collapsed": false,
    "ExecuteTime": {
     "end_time": "2025-01-21T12:58:16.844038Z",
     "start_time": "2025-01-21T12:58:16.840631Z"
    }
   },
   "outputs": [
    {
     "name": "stdout",
     "output_type": "stream",
     "text": [
      "图像大小: (28, 28)\n",
      "图像模式: L\n",
      "[0, 0, 0, 0, 0, 0, 0, 0, 0, 0, 0, 0, 0, 0, 0, 0, 0, 0, 0, 0, 0, 0, 0, 0, 0, 0, 0, 0, 0, 0, 0, 0, 0, 0, 0, 0, 0, 0, 0, 0, 0, 0, 0, 0, 0, 0, 0, 0, 0, 0, 0, 0, 0, 0, 0, 0, 0, 0, 0, 0, 0, 0, 0, 0, 0, 0, 0, 0, 0, 0, 0, 0, 0, 0, 0, 0, 0, 0, 0, 0, 0, 0, 0, 0, 0, 0, 0, 0, 0, 0, 0, 0, 0, 0, 0, 0, 1, 0, 0, 13, 73, 0, 0, 1, 4, 0, 0, 0, 0, 1, 1, 0, 0, 0, 0, 0, 0, 0, 0, 0, 0, 0, 0, 0, 3, 0, 36, 136, 127, 62, 54, 0, 0, 0, 1, 3, 4, 0, 0, 3, 0, 0, 0, 0, 0, 0, 0, 0, 0, 0, 0, 0, 6, 0, 102, 204, 176, 134, 144, 123, 23, 0, 0, 0, 0, 12, 10, 0, 0, 0, 0, 0, 0, 0, 0, 0, 0, 0, 0, 0, 0, 0, 155, 236, 207, 178, 107, 156, 161, 109, 64, 23, 77, 130, 72, 15, 0, 0, 0, 0, 0, 0, 0, 0, 0, 0, 0, 1, 0, 69, 207, 223, 218, 216, 216, 163, 127, 121, 122, 146, 141, 88, 172, 66, 0, 0, 0, 0, 0, 0, 0, 0, 0, 1, 1, 1, 0, 200, 232, 232, 233, 229, 223, 223, 215, 213, 164, 127, 123, 196, 229, 0, 0, 0, 0, 0, 0, 0, 0, 0, 0, 0, 0, 0, 0, 183, 225, 216, 223, 228, 235, 227, 224, 222, 224, 221, 223, 245, 173, 0, 0, 0, 0, 0, 0, 0, 0, 0, 0, 0, 0, 0, 0, 193, 228, 218, 213, 198, 180, 212, 210, 211, 213, 223, 220, 243, 202, 0, 0, 0, 0, 0, 0, 0, 0, 0, 0, 1, 3, 0, 12, 219, 220, 212, 218, 192, 169, 227, 208, 218, 224, 212, 226, 197, 209, 52, 0, 0, 0, 0, 0, 0, 0, 0, 0, 0, 6, 0, 99, 244, 222, 220, 218, 203, 198, 221, 215, 213, 222, 220, 245, 119, 167, 56, 0, 0, 0, 0, 0, 0, 0, 0, 0, 4, 0, 0, 55, 236, 228, 230, 228, 240, 232, 213, 218, 223, 234, 217, 217, 209, 92, 0, 0, 0, 1, 4, 6, 7, 2, 0, 0, 0, 0, 0, 237, 226, 217, 223, 222, 219, 222, 221, 216, 223, 229, 215, 218, 255, 77, 0, 0, 3, 0, 0, 0, 0, 0, 0, 0, 62, 145, 204, 228, 207, 213, 221, 218, 208, 211, 218, 224, 223, 219, 215, 224, 244, 159, 0, 0, 0, 0, 0, 18, 44, 82, 107, 189, 228, 220, 222, 217, 226, 200, 205, 211, 230, 224, 234, 176, 188, 250, 248, 233, 238, 215, 0, 0, 57, 187, 208, 224, 221, 224, 208, 204, 214, 208, 209, 200, 159, 245, 193, 206, 223, 255, 255, 221, 234, 221, 211, 220, 232, 246, 0, 3, 202, 228, 224, 221, 211, 211, 214, 205, 205, 205, 220, 240, 80, 150, 255, 229, 221, 188, 154, 191, 210, 204, 209, 222, 228, 225, 0, 98, 233, 198, 210, 222, 229, 229, 234, 249, 220, 194, 215, 217, 241, 65, 73, 106, 117, 168, 219, 221, 215, 217, 223, 223, 224, 229, 29, 75, 204, 212, 204, 193, 205, 211, 225, 216, 185, 197, 206, 198, 213, 240, 195, 227, 245, 239, 223, 218, 212, 209, 222, 220, 221, 230, 67, 48, 203, 183, 194, 213, 197, 185, 190, 194, 192, 202, 214, 219, 221, 220, 236, 225, 216, 199, 206, 186, 181, 177, 172, 181, 205, 206, 115, 0, 122, 219, 193, 179, 171, 183, 196, 204, 210, 213, 207, 211, 210, 200, 196, 194, 191, 195, 191, 198, 192, 176, 156, 167, 177, 210, 92, 0, 0, 74, 189, 212, 191, 175, 172, 175, 181, 185, 188, 189, 188, 193, 198, 204, 209, 210, 210, 211, 188, 188, 194, 192, 216, 170, 0, 2, 0, 0, 0, 66, 200, 222, 237, 239, 242, 246, 243, 244, 221, 220, 193, 191, 179, 182, 182, 181, 176, 166, 168, 99, 58, 0, 0, 0, 0, 0, 0, 0, 0, 0, 40, 61, 44, 72, 41, 35, 0, 0, 0, 0, 0, 0, 0, 0, 0, 0, 0, 0, 0, 0, 0, 0, 0, 0, 0, 0, 0, 0, 0, 0, 0, 0, 0, 0, 0, 0, 0, 0, 0, 0, 0, 0, 0, 0, 0, 0, 0, 0, 0, 0, 0, 0, 0, 0, 0, 0, 0, 0, 0, 0, 0, 0, 0, 0, 0, 0, 0, 0, 0, 0, 0, 0, 0, 0, 0, 0, 0]\n"
     ]
    }
   ],
   "execution_count": 12
  },
  {
   "cell_type": "code",
   "source": [
    "#这个代码必须是注释了上面的 transforms.ToTensor()才能够运行的\n",
    "def show_single_image(img_arr):\n",
    "    plt.imshow(img_arr, cmap=\"binary\") # 显示图片\n",
    "    plt.colorbar() # 显示颜色条\n",
    "    plt.show()\n",
    "\n",
    "\n",
    "show_single_image(img)"
   ],
   "metadata": {
    "collapsed": false,
    "ExecuteTime": {
     "end_time": "2025-01-21T12:58:16.920882Z",
     "start_time": "2025-01-21T12:58:16.844038Z"
    }
   },
   "outputs": [
    {
     "data": {
      "text/plain": [
       "<Figure size 640x480 with 2 Axes>"
      ],
      "image/png": "[encoded data removed]"
     },
     "metadata": {},
     "output_type": "display_data"
    }
   ],
   "execution_count": 13
  },
  {
   "metadata": {},
   "cell_type": "markdown",
   "source": "# 数据准备2，为训练做准备"
  },
  {
   "metadata": {
    "ExecuteTime": {
     "end_time": "2025-01-21T12:58:16.962180Z",
     "start_time": "2025-01-21T12:58:16.920882Z"
    }
   },
   "cell_type": "code",
   "source": [
    "from torchvision import datasets\n",
    "from torchvision.transforms import ToTensor\n",
    "from torchvision import transforms\n",
    "\n",
    "\n",
    "# 定义数据集的变换\n",
    "transform = transforms.Compose([\n",
    "    transforms.ToTensor(), # 转换为tensor，进行归一化\n",
    "    # transforms.Normalize(mean, std) # 标准化，mean和std是数据集的均值和方差\n",
    "])\n",
    "# fashion_mnist图像分类数据集，衣服分类，60000张训练图片，10000张测试图片\n",
    "train_ds = datasets.FashionMNIST(\n",
    "    root=\"data\",\n",
    "    train=True,\n",
    "    download=True,\n",
    "    transform=transform\n",
    ")\n",
    "\n",
    "test_ds = datasets.FashionMNIST(\n",
    "    root=\"data\",\n",
    "    train=False,\n",
    "    download=True,\n",
    "    transform=transform\n",
    ")\n",
    "\n",
    "# torchvision 数据集里没有提供训练集和验证集的划分\n",
    "# 当然也可以用 torch.utils.data.Dataset 实现人为划分"
   ],
   "outputs": [],
   "execution_count": 14
  },
  {
   "metadata": {
    "ExecuteTime": {
     "end_time": "2025-01-21T12:58:16.967246Z",
     "start_time": "2025-01-21T12:58:16.963324Z"
    }
   },
   "cell_type": "code",
   "source": [
    "img, label = train_ds[0]\n",
    "img.shape  #img这时是一个tensor，shape=(1, 28, 28)"
   ],
   "outputs": [
    {
     "data": {
      "text/plain": [
       "torch.Size([1, 28, 28])"
      ]
     },
     "execution_count": 15,
     "metadata": {},
     "output_type": "execute_result"
    }
   ],
   "execution_count": 15
  },
  {
   "metadata": {
    "ExecuteTime": {
     "end_time": "2025-01-21T12:58:19.567380Z",
     "start_time": "2025-01-21T12:58:16.967246Z"
    }
   },
   "cell_type": "code",
   "source": [
    "#计算均值和方差\n",
    "def cal_mean_std(ds):\n",
    "    mean = 0.\n",
    "    std = 0.\n",
    "    for img, _ in ds:  # 遍历每张图片,img.shape=[1,28,28]\n",
    "        mean += img.mean(dim=(1, 2))  # 计算每张图片的均值，dim=(1, 2)表示计算每张图片的每一个像素的均值,行列共同求均值\n",
    "        std += img.std(dim=(1, 2))\n",
    "    mean /= len(ds)\n",
    "    std /= len(ds)\n",
    "    return mean, std\n",
    "\n",
    "\n",
    "print(cal_mean_std(train_ds))\n"
   ],
   "outputs": [
    {
     "name": "stdout",
     "output_type": "stream",
     "text": [
      "(tensor([0.2860]), tensor([0.3205]))\n"
     ]
    }
   ],
   "execution_count": 16
  },
  {
   "cell_type": "code",
   "metadata": {
    "ExecuteTime": {
     "end_time": "2025-01-21T12:58:19.799915Z",
     "start_time": "2025-01-21T12:58:19.567380Z"
    }
   },
   "source": [
    "def show_imgs(n_rows, n_cols, train_ds, class_names):\n",
    "    assert n_rows * n_cols < len(train_ds)  #确保打印的图片小于总样本数\n",
    "    plt.figure(figsize = (n_cols * 1.4, n_rows * 1.6))  #宽1.4高1.6，宽，高\n",
    "    for row in range(n_rows):\n",
    "        for col in range(n_cols):\n",
    "            index = n_cols * row + col  # 计算索引，从0开始\n",
    "            plt.subplot(n_rows, n_cols, index+1)#因为从1开始\n",
    "            img_arr, label = train_ds[index]\n",
    "            img_arr = np.transpose(img_arr, (1, 2, 0))  # 通道换到最后一维\n",
    "            plt.imshow(img_arr, cmap=\"binary\",\n",
    "                       interpolation = 'nearest')#interpolation='nearest'是临近插值\n",
    "            plt.axis('off')#去除坐标系\n",
    "            plt.title(class_names[label]) # 显示类别名称\n",
    "    plt.show()\n",
    "    \n",
    "    \n",
    "\n",
    "#已知的图片类别\n",
    "# lables在这个路径https://github.com/zalandoresearch/fashion-mnist\n",
    "class_names = ['T-shirt', 'Trouser', 'Pullover', 'Dress',\n",
    "               'Coat', 'Sandal', 'Shirt', 'Sneaker',\n",
    "               'Bag', 'Ankle boot'] #0-9分别代表的类别\n",
    "#只是打印了前15个样本\n",
    "show_imgs(3, 5, train_ds, class_names)\n"
   ],
   "outputs": [
    {
     "data": {
      "text/plain": [
       "<Figure size 700x480 with 15 Axes>"
      ],
      "image/png": "[encoded data removed]"
     },
     "metadata": {},
     "output_type": "display_data"
    }
   ],
   "execution_count": 17
  },
  {
   "cell_type": "code",
   "metadata": {
    "ExecuteTime": {
     "end_time": "2025-01-21T12:58:19.804349Z",
     "start_time": "2025-01-21T12:58:19.799915Z"
    }
   },
   "source": [
    "# 从数据集到dataloader\n",
    "train_loader = torch.utils.data.DataLoader(train_ds, batch_size=32, shuffle=True) #batch_size分批，shuffle洗牌\n",
    "val_loader = torch.utils.data.DataLoader(test_ds, batch_size=32, shuffle=False)"
   ],
   "outputs": [],
   "execution_count": 18
  },
  {
   "cell_type": "markdown",
   "source": [
    "在PyTorch中，`DataLoader`是一个迭代器，它封装了数据的加载和预处理过程，使得在训练机器学习模型时可以方便地批量加载数据。`DataLoader`主要负责以下几个方面：\n",
    "\n",
    "1. **批量加载数据**：`DataLoader`可以将数据集（Dataset）切分为更小的批次（batch），每次迭代提供一小批量数据，而不是单个数据点。这有助于模型学习数据中的统计依赖性，并且可以更高效地利用GPU等硬件的并行计算能力。\n",
    "\n",
    "2. **数据打乱**：默认情况下，`DataLoader`会在每个epoch（训练周期）开始时打乱数据的顺序。这有助于模型训练时避免陷入局部最优解，并且可以提高模型的泛化能力。\n",
    "\n",
    "3. **多线程数据加载**：`DataLoader`支持多线程（通过参数`num_workers`）来并行地加载数据，这可以显著减少训练过程中的等待时间，尤其是在处理大规模数据集时。\n",
    "\n",
    "4. **数据预处理**：`DataLoader`可以与`transforms`结合使用，对加载的数据进行预处理，如归一化、标准化、数据增强等操作。\n",
    "\n",
    "5. **内存管理**：`DataLoader`负责管理数据的内存使用，确保在训练过程中不会耗尽内存资源。\n",
    "\n",
    "6. **易用性**：`DataLoader`提供了一个简单的接口，可以很容易地集成到训练循环中。\n",
    "\n"
   ],
   "metadata": {
    "collapsed": false
   }
  },
  {
   "metadata": {
    "ExecuteTime": {
     "end_time": "2025-01-21T12:58:19.816862Z",
     "start_time": "2025-01-21T12:58:19.804913Z"
    }
   },
   "cell_type": "code",
   "source": [
    "for datas, labels in train_loader:\n",
    "    print(datas.shape)\n",
    "    print(labels.shape)\n",
    "    break\n",
    "#查看val_loader\n",
    "for datas, labels in val_loader:\n",
    "    print(datas.shape)\n",
    "    print(labels.shape)\n",
    "    break"
   ],
   "outputs": [
    {
     "name": "stdout",
     "output_type": "stream",
     "text": [
      "torch.Size([32, 1, 28, 28])\n",
      "torch.Size([32])\n",
      "torch.Size([32, 1, 28, 28])\n",
      "torch.Size([32])\n"
     ]
    }
   ],
   "execution_count": 19
  },
  {
   "cell_type": "markdown",
   "metadata": {},
   "source": [
    "## 定义模型"
   ]
  },
  {
   "cell_type": "code",
   "metadata": {
    "ExecuteTime": {
     "end_time": "2025-01-21T12:58:19.822761Z",
     "start_time": "2025-01-21T12:58:19.816862Z"
    }
   },
   "source": [
    "class NeuralNetwork(nn.Module):\n",
    "    def __init__(self):\n",
    "        super().__init__() # 继承父类的初始化方法，子类有父类的属性\n",
    "        self.flatten = nn.Flatten()  # 展平层\n",
    "        self.linear_relu_stack = nn.Sequential(\n",
    "            nn.Linear(784, 300),  # in_features=784, out_features=300, 784是输入特征数，300是输出特征数\n",
    "            nn.ReLU(), # 激活函数\n",
    "            nn.Linear(300, 100),#隐藏层神经元数100\n",
    "            nn.ReLU(), # 激活函数\n",
    "            nn.Linear(100, 10),#输出层神经元数10 \n",
    "        )\n",
    "\n",
    "    def forward(self, x): # 前向计算，前向传播\n",
    "        # x.shape [batch size, 1, 28, 28],1是通道数\n",
    "        x = self.flatten(x)  \n",
    "        # print(f'x.shape--{x.shape}')\n",
    "        # 展平后 x.shape [batch size, 784]\n",
    "        logits = self.linear_relu_stack(x)\n",
    "        # logits.shape [batch size, 10]\n",
    "        return logits #没有经过softmax,称为logits\n",
    "    \n",
    "model = NeuralNetwork()"
   ],
   "outputs": [],
   "execution_count": 20
  },
  {
   "cell_type": "code",
   "metadata": {
    "ExecuteTime": {
     "end_time": "2025-01-21T12:58:19.826576Z",
     "start_time": "2025-01-21T12:58:19.822761Z"
    }
   },
   "source": [
    "# 看看网络结构\n",
    "model"
   ],
   "outputs": [
    {
     "data": {
      "text/plain": [
       "NeuralNetwork(\n",
       "  (flatten): Flatten(start_dim=1, end_dim=-1)\n",
       "  (linear_relu_stack): Sequential(\n",
       "    (0): Linear(in_features=784, out_features=300, bias=True)\n",
       "    (1): ReLU()\n",
       "    (2): Linear(in_features=300, out_features=100, bias=True)\n",
       "    (3): ReLU()\n",
       "    (4): Linear(in_features=100, out_features=10, bias=True)\n",
       "  )\n",
       ")"
      ]
     },
     "execution_count": 21,
     "metadata": {},
     "output_type": "execute_result"
    }
   ],
   "execution_count": 21
  },
  {
   "metadata": {
    "ExecuteTime": {
     "end_time": "2025-01-21T12:58:19.833701Z",
     "start_time": "2025-01-21T12:58:19.826576Z"
    }
   },
   "cell_type": "code",
   "source": [
    "#为了查看模型运算的tensor尺寸\n",
    "x = torch.randn(32, 1, 28, 28)\n",
    "print(x.shape)\n",
    "logits = model(x)\n",
    "print(logits.shape)"
   ],
   "outputs": [
    {
     "name": "stdout",
     "output_type": "stream",
     "text": [
      "torch.Size([32, 1, 28, 28])\n",
      "torch.Size([32, 10])\n"
     ]
    }
   ],
   "execution_count": 22
  },
  {
   "cell_type": "code",
   "source": [
    "784*300+300+300*100+100+100*10+10"
   ],
   "metadata": {
    "collapsed": false,
    "ExecuteTime": {
     "end_time": "2025-01-21T12:58:19.837515Z",
     "start_time": "2025-01-21T12:58:19.833701Z"
    }
   },
   "outputs": [
    {
     "data": {
      "text/plain": [
       "266610"
      ]
     },
     "execution_count": 23,
     "metadata": {},
     "output_type": "execute_result"
    }
   ],
   "execution_count": 23
  },
  {
   "cell_type": "code",
   "metadata": {
    "ExecuteTime": {
     "end_time": "2025-01-21T12:58:19.840379Z",
     "start_time": "2025-01-21T12:58:19.837515Z"
    }
   },
   "source": [
    "for name, param in model.named_parameters(): # 打印模型参数\n",
    "      print(name, param.shape)"
   ],
   "outputs": [
    {
     "name": "stdout",
     "output_type": "stream",
     "text": [
      "linear_relu_stack.0.weight torch.Size([300, 784])\n",
      "linear_relu_stack.0.bias torch.Size([300])\n",
      "linear_relu_stack.2.weight torch.Size([100, 300])\n",
      "linear_relu_stack.2.bias torch.Size([100])\n",
      "linear_relu_stack.4.weight torch.Size([10, 100])\n",
      "linear_relu_stack.4.bias torch.Size([10])\n"
     ]
    }
   ],
   "execution_count": 24
  },
  {
   "cell_type": "code",
   "metadata": {
    "ExecuteTime": {
     "end_time": "2025-01-21T12:58:19.853413Z",
     "start_time": "2025-01-21T12:58:19.840379Z"
    }
   },
   "source": [
    "# 看看模型参数\n",
    "list(model.parameters())  # 这种方法拿到模型的所有可学习参数,requires_grad=True\n"
   ],
   "outputs": [
    {
     "data": {
      "text/plain": [
       "[Parameter containing:\n",
       " tensor([[-1.1256e-02,  2.1677e-02,  6.2899e-03,  ...,  2.1572e-03,\n",
       "          -5.5970e-03, -1.7683e-02],\n",
       "         [-3.0510e-02, -1.9456e-02, -1.9055e-02,  ...,  2.5905e-02,\n",
       "           3.5508e-02,  4.6317e-03],\n",
       "         [-1.8168e-02,  3.5318e-02, -1.6916e-02,  ..., -2.8662e-02,\n",
       "          -1.6260e-02, -9.9432e-05],\n",
       "         ...,\n",
       "         [-3.0268e-02,  3.0090e-02, -2.7885e-02,  ...,  1.2125e-02,\n",
       "          -1.6633e-02, -2.7721e-02],\n",
       "         [ 1.0732e-02, -2.4346e-02, -1.3065e-02,  ...,  3.4760e-02,\n",
       "          -2.9681e-02, -1.0628e-02],\n",
       "         [ 2.4591e-02,  2.5334e-02, -3.0702e-02,  ...,  7.2316e-03,\n",
       "           1.8179e-02,  5.3770e-03]], requires_grad=True),\n",
       " Parameter containing:\n",
       " tensor([-2.5560e-02, -1.2400e-02,  1.5593e-02,  2.1467e-02,  2.6543e-02,\n",
       "          2.2973e-02,  3.2102e-02, -7.7516e-03, -1.0482e-02, -1.4625e-02,\n",
       "          3.3868e-02,  1.5958e-03,  1.4578e-02, -1.5519e-02,  1.9893e-02,\n",
       "          2.7065e-02, -1.5917e-02, -7.4286e-03,  3.4561e-02,  1.0417e-03,\n",
       "         -1.4772e-03,  3.5159e-02, -8.3865e-03,  1.6061e-02,  3.1822e-02,\n",
       "          8.2093e-03, -1.9361e-02, -2.0745e-02, -8.1853e-03,  3.4814e-02,\n",
       "          1.1710e-02,  1.1535e-02,  1.1684e-03, -1.0269e-02,  4.8291e-03,\n",
       "          2.0752e-02,  2.6384e-03, -1.0152e-02, -2.2459e-02,  1.2054e-02,\n",
       "         -3.2007e-02,  3.4746e-02, -2.6854e-02,  2.6653e-02, -1.2408e-02,\n",
       "         -1.1514e-02,  3.0728e-02,  3.1404e-02, -2.2160e-02, -2.3881e-02,\n",
       "         -6.2365e-03, -6.2888e-03,  1.5025e-02,  1.6268e-03,  7.6554e-03,\n",
       "         -8.7408e-03,  2.2399e-02, -1.4588e-02,  1.3436e-02,  1.0711e-02,\n",
       "         -3.5952e-03, -2.4670e-02, -9.0763e-03,  6.8436e-03,  6.2884e-03,\n",
       "          1.0605e-02,  1.4690e-02, -3.1821e-02,  3.0032e-02, -1.0123e-02,\n",
       "          1.1544e-02, -3.2500e-02,  1.6180e-02,  3.4804e-02,  6.1011e-03,\n",
       "          1.7470e-02,  2.2508e-03, -3.1297e-02,  2.8150e-02, -1.9994e-02,\n",
       "         -2.5917e-02, -3.4127e-02,  9.2352e-03, -1.2923e-02, -3.5410e-02,\n",
       "          3.3881e-02, -7.5720e-03, -3.2185e-02, -4.0746e-03,  2.3220e-02,\n",
       "         -3.0411e-02,  3.0724e-02,  1.4049e-02,  3.0168e-02,  5.1879e-03,\n",
       "          2.3219e-02,  3.0598e-02, -1.3266e-02,  3.4899e-02,  3.3778e-02,\n",
       "         -9.8248e-03, -1.0352e-02,  7.8256e-03, -6.5070e-03,  2.6832e-02,\n",
       "          3.0871e-02, -2.4440e-03,  1.7633e-02, -9.8266e-03, -2.3870e-02,\n",
       "          1.3117e-02,  8.4492e-03, -2.3117e-03,  7.4190e-03,  3.9616e-03,\n",
       "          2.0066e-02,  2.9959e-02, -6.3196e-03,  1.2804e-02,  2.4486e-02,\n",
       "          1.5542e-02,  2.8949e-02,  1.7549e-02,  2.9410e-02, -1.5501e-02,\n",
       "         -1.1587e-02,  1.0273e-03, -4.2696e-03, -2.0229e-02, -2.4374e-03,\n",
       "          2.4990e-02, -2.6299e-02, -2.0616e-02, -4.8894e-03,  7.1274e-03,\n",
       "          1.4452e-02, -2.2188e-02,  1.0791e-02,  7.9502e-03, -6.5263e-03,\n",
       "          9.7049e-04, -2.1808e-02, -1.7866e-02,  2.6541e-04, -2.1677e-04,\n",
       "         -3.5678e-02, -2.2410e-02, -2.1653e-02,  2.9689e-02, -1.0272e-02,\n",
       "         -2.1409e-02, -3.3604e-03,  2.3290e-02, -3.7734e-03, -3.4274e-02,\n",
       "         -1.1711e-02, -3.4089e-02, -2.7908e-02,  3.5222e-02,  2.2028e-02,\n",
       "         -4.6693e-03, -2.6208e-02,  2.2089e-02,  2.5217e-02,  2.9462e-02,\n",
       "         -9.1542e-03, -3.7139e-03,  2.1415e-02,  2.0776e-02, -9.9099e-03,\n",
       "          2.8411e-02, -1.5039e-02,  2.6653e-02,  3.3675e-02, -3.2501e-02,\n",
       "          3.3643e-02, -1.9496e-02,  4.1011e-03, -3.7898e-03,  3.9892e-03,\n",
       "         -3.3907e-02, -2.3669e-02, -1.4954e-02,  6.6943e-03, -5.2173e-05,\n",
       "          3.2174e-02,  5.6042e-03, -1.2381e-02,  2.4382e-02, -1.9499e-02,\n",
       "          1.2960e-02, -1.5315e-02, -9.1244e-03, -3.2594e-02, -1.1563e-02,\n",
       "          9.5904e-03,  2.6599e-02, -2.5782e-02, -1.6939e-02,  2.1850e-02,\n",
       "         -1.0265e-02, -1.9078e-02, -1.8497e-02, -2.2222e-02, -8.2236e-03,\n",
       "         -8.7607e-03, -1.9083e-02, -1.2916e-02, -1.3712e-02,  2.6741e-02,\n",
       "         -3.3116e-02, -1.6530e-02, -6.0181e-03, -1.3851e-03,  2.4482e-02,\n",
       "         -1.9771e-02,  9.3258e-03,  2.8746e-02,  2.1357e-02, -3.2715e-02,\n",
       "         -2.1539e-02, -1.8456e-02,  4.0527e-03,  1.6728e-02, -1.3482e-03,\n",
       "         -1.7286e-02,  3.1476e-02,  1.4013e-02,  1.0451e-02, -7.5914e-03,\n",
       "          3.0359e-02, -3.1761e-03,  1.2644e-02,  2.3810e-02,  3.4108e-02,\n",
       "          2.1225e-02,  2.0907e-02,  1.6315e-03,  2.3047e-02,  1.6493e-02,\n",
       "          2.0461e-02,  2.8604e-02, -5.1892e-03, -4.4866e-03,  3.2042e-02,\n",
       "         -2.6508e-02, -3.3003e-02,  3.3343e-02, -1.0226e-02, -2.5931e-02,\n",
       "          3.3333e-02,  3.3977e-02, -1.4303e-02,  1.1296e-02, -1.8156e-02,\n",
       "          1.2544e-02,  3.5660e-02, -2.6871e-02, -3.1154e-02, -1.8547e-02,\n",
       "          2.5721e-02,  1.2276e-02, -1.8818e-02, -2.5522e-02,  2.7158e-02,\n",
       "          1.0906e-02, -1.2773e-02, -1.0925e-02, -9.8543e-03, -1.6385e-02,\n",
       "         -3.2545e-02, -2.5037e-02, -5.7535e-03,  2.5604e-03,  1.7947e-02,\n",
       "          2.2315e-02, -1.8359e-02, -1.5433e-02,  3.2688e-02,  3.2993e-02,\n",
       "          3.2454e-02, -1.9742e-02, -4.8644e-03, -2.3115e-02,  3.5256e-02,\n",
       "          2.3437e-02,  9.1196e-03, -1.1595e-02, -1.5312e-02, -1.6383e-02,\n",
       "         -1.6575e-03, -2.8758e-02, -5.5309e-03, -1.5741e-02, -2.3046e-02,\n",
       "         -5.5517e-03,  4.4942e-03, -1.3449e-02,  1.1312e-02,  4.7016e-03],\n",
       "        requires_grad=True),\n",
       " Parameter containing:\n",
       " tensor([[-0.0079,  0.0475, -0.0030,  ...,  0.0481,  0.0493,  0.0538],\n",
       "         [ 0.0216,  0.0369,  0.0305,  ...,  0.0413,  0.0387,  0.0442],\n",
       "         [-0.0157,  0.0145, -0.0313,  ...,  0.0441,  0.0546, -0.0458],\n",
       "         ...,\n",
       "         [ 0.0371, -0.0095, -0.0454,  ..., -0.0191,  0.0421, -0.0321],\n",
       "         [ 0.0043, -0.0390,  0.0211,  ..., -0.0046,  0.0490, -0.0426],\n",
       "         [ 0.0572, -0.0508, -0.0525,  ..., -0.0335,  0.0382, -0.0085]],\n",
       "        requires_grad=True),\n",
       " Parameter containing:\n",
       " tensor([ 3.6768e-02, -4.0667e-03,  4.0832e-02, -3.4013e-02,  6.3879e-03,\n",
       "         -6.9246e-05,  1.0383e-02,  8.9658e-03,  4.1052e-02,  2.5769e-03,\n",
       "          3.9171e-02,  4.9142e-02, -2.9002e-02, -1.5605e-02, -5.6853e-03,\n",
       "         -1.3589e-02,  2.9568e-02, -4.3548e-03,  4.1448e-02,  2.4617e-02,\n",
       "         -3.9004e-02,  2.6715e-02, -6.1364e-03,  1.7444e-02,  1.0503e-02,\n",
       "          4.7241e-02,  1.4510e-02, -5.0122e-02, -5.7477e-02,  3.8612e-03,\n",
       "         -3.9135e-02, -6.5600e-03,  1.9019e-02, -1.9044e-02,  1.7009e-02,\n",
       "          2.2647e-02,  2.8379e-02,  2.7032e-02,  2.8992e-02,  1.4942e-03,\n",
       "          4.6110e-02,  2.7783e-02, -3.9632e-03,  4.3939e-02, -3.9843e-02,\n",
       "         -4.7777e-02, -4.4214e-02,  4.4597e-02,  2.3379e-02,  3.7765e-02,\n",
       "         -3.8198e-02, -5.0161e-02,  8.1365e-03,  3.3949e-02, -4.4689e-02,\n",
       "          4.0195e-02, -3.2996e-02,  1.0076e-02, -4.7994e-02,  4.8673e-03,\n",
       "         -2.6434e-02, -3.5506e-04, -2.4365e-02, -3.7801e-02,  5.6516e-02,\n",
       "          5.1185e-02, -7.5758e-03,  2.2974e-02,  3.5742e-03,  2.7107e-02,\n",
       "         -2.2408e-03,  4.7588e-02, -1.6762e-02,  2.0096e-02,  2.7703e-02,\n",
       "          3.5710e-02, -2.7557e-03,  3.7992e-02, -1.0324e-02, -5.4505e-02,\n",
       "         -4.4827e-03, -1.1363e-02, -1.9392e-03,  1.4173e-02, -5.6032e-02,\n",
       "          2.1478e-02, -5.6947e-02, -6.4925e-03,  2.2453e-02, -1.2824e-02,\n",
       "          4.1154e-02,  2.6745e-02,  1.7492e-02,  5.1918e-03,  1.6512e-02,\n",
       "         -3.7616e-02,  1.9764e-02,  3.3299e-02,  4.9526e-02, -5.6545e-02],\n",
       "        requires_grad=True),\n",
       " Parameter containing:\n",
       " tensor([[-0.0109, -0.0199, -0.0221, -0.0856, -0.0509,  0.0202,  0.0908, -0.0315,\n",
       "           0.0067,  0.0016, -0.0548,  0.0911, -0.0792,  0.0011,  0.0677,  0.0273,\n",
       "           0.0384, -0.0471,  0.0730,  0.0688,  0.0890, -0.0340, -0.0986,  0.0229,\n",
       "           0.0528, -0.0028,  0.0831,  0.0564,  0.0871, -0.0690, -0.0567, -0.0657,\n",
       "          -0.0408, -0.0198, -0.0123,  0.0537,  0.0171, -0.0568, -0.0451, -0.0582,\n",
       "          -0.0814,  0.0220,  0.0656, -0.0461,  0.0783,  0.0841,  0.0240,  0.0125,\n",
       "          -0.0228,  0.0605, -0.0610,  0.0250, -0.0506, -0.0939, -0.0734, -0.0082,\n",
       "           0.0302,  0.0055,  0.0443,  0.0975, -0.0259, -0.0743, -0.0568,  0.0639,\n",
       "           0.0093,  0.0520, -0.0390,  0.0607,  0.0859, -0.0700,  0.0744,  0.0482,\n",
       "           0.0337,  0.0709, -0.0602,  0.0616, -0.0086,  0.0559,  0.0487, -0.0590,\n",
       "           0.0558,  0.0556, -0.0743,  0.0054,  0.0867, -0.0726, -0.0651,  0.0578,\n",
       "          -0.0467,  0.0772,  0.0764,  0.0014, -0.0257, -0.0769,  0.0019,  0.0381,\n",
       "           0.0240,  0.0593,  0.0463,  0.0211],\n",
       "         [-0.0260, -0.0634, -0.0711, -0.0438,  0.0204,  0.0456,  0.0352,  0.0675,\n",
       "          -0.0475,  0.0891,  0.0748, -0.0375, -0.0670, -0.0028, -0.0430, -0.0209,\n",
       "           0.0431, -0.0771,  0.0468,  0.0592,  0.0994, -0.0244,  0.0468,  0.0668,\n",
       "          -0.0371,  0.0089, -0.0767, -0.0584, -0.0216,  0.0166, -0.0252,  0.0822,\n",
       "           0.0429,  0.0647, -0.0675, -0.0678,  0.0571, -0.0409,  0.0344,  0.0976,\n",
       "           0.0303,  0.0765, -0.0758, -0.0746, -0.0637,  0.0907,  0.0853, -0.0321,\n",
       "           0.0425,  0.0484,  0.0493, -0.0751,  0.0848,  0.0503, -0.0583,  0.0985,\n",
       "           0.0664,  0.0598, -0.0630, -0.0346, -0.0533,  0.0424,  0.0497, -0.0921,\n",
       "           0.0548, -0.0332, -0.0102,  0.0839,  0.0551, -0.0125,  0.0478,  0.0485,\n",
       "           0.0048, -0.0693, -0.0583,  0.0434, -0.0548,  0.0021,  0.0986, -0.0770,\n",
       "          -0.0988, -0.0092,  0.0906, -0.0681,  0.0700, -0.0790,  0.0698, -0.0578,\n",
       "          -0.0541, -0.0696,  0.0464, -0.0349,  0.0511,  0.0239,  0.0289, -0.0388,\n",
       "           0.0193, -0.0257,  0.0236, -0.0351],\n",
       "         [ 0.0890, -0.0416,  0.0797, -0.0122,  0.0476, -0.0077, -0.0622,  0.0239,\n",
       "           0.0081,  0.0352,  0.0627,  0.0496, -0.0015, -0.0088,  0.0144,  0.0163,\n",
       "          -0.0795,  0.0612, -0.0334,  0.0580,  0.0147, -0.0990, -0.0844,  0.0619,\n",
       "          -0.0601, -0.0827, -0.0602,  0.0873,  0.0330,  0.0503,  0.0141,  0.0823,\n",
       "          -0.0101, -0.0726, -0.0837,  0.0388, -0.0772,  0.0221,  0.0814,  0.0724,\n",
       "           0.0968,  0.0788,  0.0163, -0.0473, -0.0542,  0.0196, -0.0019,  0.0968,\n",
       "          -0.0875,  0.0119,  0.0330, -0.0696, -0.0865,  0.0578,  0.0268,  0.0295,\n",
       "           0.0574, -0.0922, -0.0453, -0.0181,  0.0305,  0.0865, -0.0910,  0.0737,\n",
       "           0.0396,  0.0356,  0.0741, -0.0342, -0.0726,  0.0850,  0.0521, -0.0375,\n",
       "          -0.0410, -0.0158, -0.0159,  0.0101, -0.0031, -0.0244,  0.0434, -0.0286,\n",
       "           0.0151, -0.0619, -0.0629, -0.0086,  0.0024, -0.0117,  0.0835, -0.0294,\n",
       "           0.0237,  0.0088, -0.0531, -0.0988,  0.0640, -0.0133,  0.0099, -0.0081,\n",
       "           0.0041, -0.0652,  0.0542,  0.0397],\n",
       "         [-0.0819,  0.0233,  0.0772,  0.0466,  0.0305,  0.0265,  0.0248, -0.0996,\n",
       "          -0.0150,  0.0346, -0.0336, -0.0198, -0.0907,  0.0713, -0.0797, -0.0097,\n",
       "          -0.0865,  0.0866, -0.0817, -0.0502, -0.0217, -0.0876, -0.0173, -0.0749,\n",
       "          -0.0922, -0.0863,  0.0839,  0.0175,  0.0254,  0.0774, -0.0430, -0.0375,\n",
       "          -0.0132,  0.0575, -0.0463,  0.0704,  0.0526,  0.0143,  0.0421, -0.0768,\n",
       "          -0.0042, -0.0363, -0.0832,  0.0445, -0.0619,  0.0446, -0.0625,  0.0451,\n",
       "           0.0985,  0.0067,  0.0321,  0.0207, -0.0078,  0.0865, -0.0832, -0.0843,\n",
       "          -0.0425, -0.0397, -0.0240,  0.0938,  0.0492, -0.0790, -0.0192, -0.0809,\n",
       "           0.0647, -0.0108, -0.0245, -0.0339, -0.0160,  0.0321, -0.0103,  0.0769,\n",
       "          -0.0034,  0.0170,  0.0933,  0.0853,  0.0988,  0.0578,  0.0092, -0.0888,\n",
       "           0.0047, -0.0290,  0.0984, -0.0060, -0.0730,  0.0343,  0.0695,  0.0036,\n",
       "          -0.0971,  0.0574, -0.0215, -0.0234,  0.0659,  0.0963, -0.0992, -0.0988,\n",
       "           0.0243, -0.0918, -0.0987,  0.0142],\n",
       "         [ 0.0057,  0.0329,  0.0597, -0.0027, -0.0863,  0.0440, -0.0462,  0.0954,\n",
       "          -0.0320,  0.0615, -0.0848,  0.0086, -0.0533,  0.0332, -0.0888,  0.0277,\n",
       "          -0.0652,  0.0354, -0.0582,  0.0366, -0.0135,  0.0142,  0.0013, -0.0091,\n",
       "           0.0934, -0.0499, -0.0878, -0.0390,  0.0890, -0.0628,  0.0535, -0.0701,\n",
       "           0.0445, -0.0281, -0.0386,  0.0411,  0.0696, -0.0815, -0.0266, -0.0783,\n",
       "           0.0555, -0.0149,  0.0725, -0.0169,  0.0502, -0.0526, -0.0370,  0.0286,\n",
       "           0.0253, -0.0339,  0.0643,  0.0312,  0.0688,  0.0184,  0.0582,  0.0740,\n",
       "           0.0542,  0.0567, -0.0720, -0.0255,  0.0571,  0.0790,  0.0469, -0.0083,\n",
       "          -0.0502,  0.0071, -0.0258, -0.0916, -0.0057,  0.0635, -0.0318,  0.0382,\n",
       "           0.0571, -0.0017,  0.0431,  0.0039,  0.0560,  0.0814, -0.0405,  0.0716,\n",
       "           0.0058, -0.0338,  0.0026,  0.0820,  0.0342, -0.0080, -0.0031,  0.0433,\n",
       "           0.0484, -0.0540,  0.0203, -0.0768,  0.0844,  0.0290,  0.0404,  0.0595,\n",
       "           0.0525,  0.0921,  0.0324,  0.0967],\n",
       "         [-0.0411,  0.0808,  0.0076, -0.0783, -0.0524, -0.0123, -0.0187,  0.0862,\n",
       "           0.0281, -0.0005,  0.0414,  0.0140, -0.0277, -0.0600,  0.0471,  0.0201,\n",
       "          -0.0614, -0.0993,  0.0200,  0.0560, -0.0980, -0.0442,  0.0816,  0.0501,\n",
       "          -0.0132, -0.0322,  0.0263, -0.0724, -0.0964, -0.0928,  0.0998, -0.0160,\n",
       "          -0.0374, -0.0461, -0.0282,  0.0238, -0.0677, -0.0357, -0.0756,  0.0020,\n",
       "          -0.0068, -0.0444,  0.0652,  0.0550, -0.0679, -0.0761,  0.0909,  0.0013,\n",
       "           0.0732,  0.0673, -0.0624,  0.0308, -0.0221,  0.0957,  0.0131, -0.0893,\n",
       "           0.0330,  0.0516, -0.0685,  0.0542,  0.0001, -0.0702,  0.0882,  0.0371,\n",
       "          -0.0811, -0.0275,  0.0455,  0.0745,  0.0027,  0.0496, -0.0990,  0.0296,\n",
       "           0.0756, -0.0290, -0.0484,  0.0671, -0.0121, -0.0586,  0.0055,  0.0497,\n",
       "          -0.0819, -0.0630,  0.0528,  0.0657, -0.0218, -0.0143,  0.0317,  0.0730,\n",
       "           0.0219, -0.0976,  0.0256,  0.0131, -0.0659,  0.0639,  0.0134, -0.0768,\n",
       "           0.0213,  0.0654, -0.0407, -0.0931],\n",
       "         [ 0.0074,  0.0111, -0.0722,  0.0358, -0.0236,  0.0676, -0.0934,  0.0274,\n",
       "           0.0486,  0.0579,  0.0371,  0.0537,  0.0339,  0.0933, -0.0159, -0.0880,\n",
       "          -0.0814,  0.0573,  0.0196, -0.0544,  0.0167, -0.0096, -0.0595,  0.0912,\n",
       "           0.0445,  0.0954,  0.0461,  0.0833,  0.0126,  0.0294,  0.0178,  0.0167,\n",
       "          -0.0746, -0.0113, -0.0988,  0.0235, -0.0106,  0.0778,  0.0427, -0.0132,\n",
       "           0.0408,  0.0729, -0.0027, -0.0961, -0.0676, -0.0979,  0.0729, -0.0777,\n",
       "           0.0483,  0.0445, -0.0679,  0.0981, -0.0662,  0.0202,  0.0399, -0.0194,\n",
       "          -0.0625, -0.0162,  0.0634, -0.0911, -0.0424, -0.0611, -0.0901, -0.0338,\n",
       "          -0.0318, -0.0284,  0.0732,  0.0343,  0.0664, -0.0900, -0.0936, -0.0504,\n",
       "          -0.0220, -0.0352, -0.0729, -0.0061, -0.0901,  0.0513,  0.0425, -0.0065,\n",
       "          -0.0956, -0.0884,  0.0676, -0.0874, -0.0354,  0.0115, -0.0853,  0.0974,\n",
       "           0.0186,  0.0046, -0.0288,  0.0292,  0.0686, -0.0059, -0.0430, -0.0264,\n",
       "          -0.0708, -0.0275,  0.0426, -0.0506],\n",
       "         [-0.0456,  0.0689, -0.0307, -0.0396, -0.0281,  0.0061, -0.0983, -0.0890,\n",
       "           0.0573, -0.0813, -0.0110, -0.0991,  0.0301,  0.0920,  0.0364, -0.0843,\n",
       "           0.0966, -0.0476, -0.0979,  0.0871, -0.0675, -0.0361,  0.0557, -0.0589,\n",
       "          -0.0401, -0.0071, -0.0280, -0.0801, -0.0930,  0.0090, -0.0980, -0.0197,\n",
       "           0.0227,  0.0462,  0.0127,  0.0384, -0.0110,  0.0650, -0.0115,  0.0870,\n",
       "          -0.0711, -0.0799,  0.0229, -0.0364, -0.0992, -0.0541,  0.0143, -0.0114,\n",
       "           0.0498,  0.0014,  0.0864, -0.0345, -0.0015, -0.0195,  0.0424,  0.0951,\n",
       "          -0.0057, -0.0596, -0.0274,  0.0524,  0.0770,  0.0763,  0.0233,  0.0197,\n",
       "          -0.0263,  0.0535,  0.0356, -0.0979,  0.0113, -0.0027, -0.0612,  0.0635,\n",
       "          -0.0652, -0.0556, -0.0156,  0.0101,  0.0943, -0.0425, -0.0241, -0.0751,\n",
       "          -0.0094, -0.0189, -0.0305,  0.0976, -0.0701, -0.0103,  0.0911,  0.0778,\n",
       "          -0.0386,  0.0965, -0.0106,  0.0099,  0.0737,  0.0361, -0.0999,  0.0865,\n",
       "          -0.0720,  0.0802, -0.0325, -0.0027],\n",
       "         [-0.0781, -0.0738,  0.0909, -0.0123, -0.0949,  0.0446, -0.0041, -0.0044,\n",
       "           0.0313,  0.0349, -0.0932,  0.0251, -0.0298, -0.0980,  0.0311, -0.0267,\n",
       "          -0.0014, -0.0972,  0.0935, -0.0724, -0.0789,  0.0950, -0.0747, -0.0075,\n",
       "           0.0113, -0.0811,  0.0252, -0.0572, -0.0187, -0.0740, -0.0338, -0.0666,\n",
       "          -0.0134, -0.0835, -0.0230, -0.0822,  0.0274, -0.0097,  0.0154,  0.0112,\n",
       "           0.0296,  0.0767,  0.0305, -0.0110,  0.0144, -0.0374,  0.0878, -0.0202,\n",
       "           0.0802, -0.0096, -0.0233,  0.0266,  0.0343, -0.0913,  0.0616,  0.0590,\n",
       "          -0.0278,  0.0044,  0.0128, -0.0096, -0.0817, -0.0804,  0.0584,  0.0911,\n",
       "          -0.0402, -0.0923, -0.0136, -0.0659, -0.0905,  0.0950,  0.0627, -0.0202,\n",
       "           0.0791, -0.0859,  0.0154,  0.0651, -0.0901,  0.0586,  0.0030, -0.0043,\n",
       "          -0.0858, -0.0884,  0.0272,  0.0372, -0.0158,  0.0139, -0.0754,  0.0104,\n",
       "          -0.0845, -0.0198,  0.0540,  0.0533, -0.0663, -0.0745, -0.0684, -0.0071,\n",
       "          -0.0259,  0.0550, -0.0486, -0.0425],\n",
       "         [-0.0321, -0.0355, -0.0359, -0.0029, -0.0858, -0.0276,  0.0710, -0.0856,\n",
       "           0.0069, -0.0074, -0.0591,  0.0067,  0.0867,  0.0871, -0.0919,  0.0669,\n",
       "           0.0265, -0.0226, -0.0775, -0.0768, -0.0579,  0.0939, -0.0101,  0.0671,\n",
       "          -0.0311,  0.0031,  0.0388,  0.0138,  0.0759,  0.0806, -0.0525,  0.0143,\n",
       "           0.0035, -0.0157,  0.0603,  0.0760, -0.0155, -0.0609,  0.0655, -0.0577,\n",
       "          -0.0903, -0.0726, -0.0674, -0.0480,  0.0174,  0.0251, -0.0026, -0.0950,\n",
       "          -0.0279, -0.0672,  0.0125,  0.0498, -0.0788, -0.0065, -0.0647,  0.0708,\n",
       "           0.0181, -0.0339, -0.0633,  0.0163,  0.0626,  0.0637, -0.0212,  0.0455,\n",
       "           0.0758, -0.0785, -0.0700, -0.0433, -0.0191,  0.0129,  0.0506, -0.0391,\n",
       "           0.0216,  0.0487,  0.0957, -0.0908,  0.0987, -0.0566,  0.0355,  0.0957,\n",
       "           0.0830,  0.0153, -0.0184, -0.0591, -0.0155, -0.0552, -0.0558, -0.0678,\n",
       "           0.0858, -0.0469,  0.0145, -0.0963, -0.0626,  0.0602,  0.0307,  0.0896,\n",
       "           0.0265,  0.0904, -0.0752,  0.0318]], requires_grad=True),\n",
       " Parameter containing:\n",
       " tensor([-0.0401,  0.0243,  0.0318, -0.0643, -0.0745, -0.0624,  0.0199, -0.0959,\n",
       "         -0.0168,  0.0310], requires_grad=True)]"
      ]
     },
     "execution_count": 25,
     "metadata": {},
     "output_type": "execute_result"
    }
   ],
   "execution_count": 25
  },
  {
   "cell_type": "code",
   "metadata": {
    "ExecuteTime": {
     "end_time": "2025-01-21T12:58:19.856262Z",
     "start_time": "2025-01-21T12:58:19.853413Z"
    }
   },
   "source": [
    "# model.state_dict()  # 这种方法用于保存模型参数，看能看见参数属于模型的哪一部分"
   ],
   "outputs": [],
   "execution_count": 26
  },
  {
   "cell_type": "markdown",
   "metadata": {},
   "source": [
    "## 训练\n",
    "\n",
    "pytorch的训练需要自行实现，包括\n",
    "1. 定义损失函数\n",
    "2. 定义优化器\n",
    "3. 定义训练步\n",
    "4. 训练"
   ]
  },
  {
   "cell_type": "code",
   "metadata": {
    "ExecuteTime": {
     "end_time": "2025-01-21T12:58:44.597177Z",
     "start_time": "2025-01-21T12:58:44.585280Z"
    }
   },
   "source": [
    "# 1. 定义损失函数 采用交叉熵损失\n",
    "loss_fct = nn.CrossEntropyLoss() #内部先做softmax，然后计算交叉熵\n",
    "# 2. 定义优化器 采用SGD\n",
    "# Optimizers specified in the torch.optim package,随机梯度下降\n",
    "optimizer = torch.optim.SGD(model.parameters(), lr=0.001, momentum=0.9)"
   ],
   "outputs": [],
   "execution_count": 27
  },
  {
   "metadata": {
    "ExecuteTime": {
     "end_time": "2025-01-21T12:58:47.658292Z",
     "start_time": "2025-01-21T12:58:47.648035Z"
    }
   },
   "cell_type": "code",
   "source": "10000/32",
   "outputs": [
    {
     "data": {
      "text/plain": [
       "312.5"
      ]
     },
     "execution_count": 28,
     "metadata": {},
     "output_type": "execute_result"
    }
   ],
   "execution_count": 28
  },
  {
   "cell_type": "code",
   "metadata": {
    "ExecuteTime": {
     "end_time": "2025-01-21T12:58:52.821539Z",
     "start_time": "2025-01-21T12:58:51.630169Z"
    }
   },
   "source": [
    "from sklearn.metrics import accuracy_score\n",
    "\n",
    "@torch.no_grad() # 装饰器，禁止反向传播，节省内存\n",
    "def evaluating(model, dataloader, loss_fct):\n",
    "    loss_list = [] # 记录损失\n",
    "    pred_list = [] # 记录预测\n",
    "    label_list = [] # 记录标签\n",
    "    for datas, labels in dataloader:#10000/32=312\n",
    "        datas = datas.to(device) # 转到GPU\n",
    "        labels = labels.to(device) # 转到GPU\n",
    "        # 前向计算\n",
    "        logits = model(datas)\n",
    "        loss = loss_fct(logits, labels)         # 验证集损失,loss尺寸是一个数值\n",
    "        loss_list.append(loss.item()) # 记录损失,item是把tensor转换为数值\n",
    "        \n",
    "        preds = logits.argmax(axis=-1)    # 验证集预测,argmax返回最大值索引\n",
    "        # print(preds)\n",
    "        pred_list.extend(preds.cpu().numpy().tolist())#将PyTorch张量转换为NumPy数组。只有当张量在CPU上时，这个转换才是合法的\n",
    "        # print(preds.cpu().numpy().tolist())\n",
    "        label_list.extend(labels.cpu().numpy().tolist())\n",
    "        \n",
    "    acc = accuracy_score(label_list, pred_list) # 计算准确率\n",
    "    return np.mean(loss_list), acc\n"
   ],
   "outputs": [],
   "execution_count": 29
  },
  {
   "cell_type": "code",
   "execution_count": 25,
   "outputs": [
    {
     "data": {
      "text/plain": "37500"
     },
     "execution_count": 25,
     "metadata": {},
     "output_type": "execute_result"
    }
   ],
   "source": [
    "1875*20"
   ],
   "metadata": {
    "collapsed": false,
    "ExecuteTime": {
     "end_time": "2024-07-17T03:06:35.201490200Z",
     "start_time": "2024-07-17T03:06:35.194584600Z"
    }
   }
  },
  {
   "cell_type": "code",
   "metadata": {
    "ExecuteTime": {
     "end_time": "2025-01-21T13:01:41.327513Z",
     "start_time": "2025-01-21T12:59:25.441063Z"
    }
   },
   "source": [
    "# 训练\n",
    "def training(model, train_loader, val_loader, epoch, loss_fct, optimizer, eval_step=500):\n",
    "    record_dict = {\n",
    "        \"train\": [],\n",
    "        \"val\": []\n",
    "    }\n",
    "    \n",
    "    global_step = 0\n",
    "    model.train()\n",
    "    #tqdm是一个进度条库\n",
    "    with tqdm(total=epoch * len(train_loader)) as pbar: # 进度条 1875*20,60000/32=1875\n",
    "        for epoch_id in range(epoch): # 训练epoch次\n",
    "            # training\n",
    "            for datas, labels in train_loader: #执行次数是60000/32=1875\n",
    "                datas = datas.to(device) #datas尺寸是[batch_size,1,28,28]\n",
    "                labels = labels.to(device) #labels尺寸是[batch_size]\n",
    "                # 梯度清空\n",
    "                optimizer.zero_grad()\n",
    "                # 模型前向计算\n",
    "                logits = model(datas)\n",
    "                # 计算损失\n",
    "                loss = loss_fct(logits, labels)\n",
    "                # 梯度回传，loss.backward()会计算梯度，loss对模型参数求导\n",
    "                loss.backward()\n",
    "                # 调整优化器，包括学习率的变动等,优化器的学习率会随着训练的进行而减小，更新w,b\n",
    "                optimizer.step() #梯度是计算并存储在模型参数的 .grad 属性中，优化器使用这些存储的梯度来更新模型参数\n",
    "\n",
    "                preds = logits.argmax(axis=-1) # 训练集预测\n",
    "                acc = accuracy_score(labels.cpu().numpy(), preds.cpu().numpy())   # 计算准确率，numpy可以\n",
    "                loss = loss.cpu().item() # 损失转到CPU，item()取值,一个数值\n",
    "                # record\n",
    "                \n",
    "                record_dict[\"train\"].append({\n",
    "                    \"loss\": loss, \"acc\": acc, \"step\": global_step\n",
    "                }) # 记录训练集信息，每一步的损失，准确率，步数\n",
    "                \n",
    "                # evaluating\n",
    "                if global_step % eval_step == 0:\n",
    "                    model.eval() # 进入评估模式\n",
    "                    val_loss, val_acc = evaluating(model, val_loader, loss_fct)\n",
    "                    record_dict[\"val\"].append({\n",
    "                        \"loss\": val_loss, \"acc\": val_acc, \"step\": global_step\n",
    "                    })\n",
    "                    model.train() # 进入训练模式\n",
    "\n",
    "                # udate step\n",
    "                global_step += 1 # 全局步数加1\n",
    "                pbar.update(1) # 更新进度条\n",
    "                pbar.set_postfix({\"epoch\": epoch_id}) # 设置进度条显示信息\n",
    "        \n",
    "    return record_dict\n",
    "        \n",
    "\n",
    "epoch = 20 #改为40\n",
    "model = model.to(device)\n",
    "record = training(model, train_loader, val_loader, epoch, loss_fct, optimizer, eval_step=1000)"
   ],
   "outputs": [
    {
     "data": {
      "text/plain": [
       "  0%|          | 0/37500 [00:00<?, ?it/s]"
      ],
      "application/vnd.jupyter.widget-view+json": {
       "version_major": 2,
       "version_minor": 0,
       "model_id": "e9eb8090fb164c5cb2082df499694813"
      }
     },
     "metadata": {},
     "output_type": "display_data"
    }
   ],
   "execution_count": 30
  },
  {
   "cell_type": "code",
   "source": [
    "record[\"train\"][-5:]"
   ],
   "metadata": {
    "collapsed": false,
    "ExecuteTime": {
     "end_time": "2025-01-21T13:01:56.706963Z",
     "start_time": "2025-01-21T13:01:56.702634Z"
    }
   },
   "outputs": [
    {
     "data": {
      "text/plain": [
       "[{'loss': 0.22842960059642792, 'acc': 0.90625, 'step': 37495},\n",
       " {'loss': 0.13852621614933014, 'acc': 0.90625, 'step': 37496},\n",
       " {'loss': 0.4496346116065979, 'acc': 0.78125, 'step': 37497},\n",
       " {'loss': 0.14092890918254852, 'acc': 0.96875, 'step': 37498},\n",
       " {'loss': 0.34506288170814514, 'acc': 0.84375, 'step': 37499}]"
      ]
     },
     "execution_count": 31,
     "metadata": {},
     "output_type": "execute_result"
    }
   ],
   "execution_count": 31
  },
  {
   "cell_type": "code",
   "source": [
    "record[\"val\"][-5:]"
   ],
   "metadata": {
    "collapsed": false,
    "ExecuteTime": {
     "end_time": "2025-01-21T13:02:01.169740Z",
     "start_time": "2025-01-21T13:02:01.164568Z"
    }
   },
   "outputs": [
    {
     "data": {
      "text/plain": [
       "[{'loss': 0.36491827369212343, 'acc': 0.8714, 'step': 33000},\n",
       " {'loss': 0.36441814742339684, 'acc': 0.8685, 'step': 34000},\n",
       " {'loss': 0.34876180499696885, 'acc': 0.8774, 'step': 35000},\n",
       " {'loss': 0.3923498296651977, 'acc': 0.8593, 'step': 36000},\n",
       " {'loss': 0.34928561422152643, 'acc': 0.8738, 'step': 37000}]"
      ]
     },
     "execution_count": 32,
     "metadata": {},
     "output_type": "execute_result"
    }
   ],
   "execution_count": 32
  },
  {
   "cell_type": "code",
   "metadata": {
    "ExecuteTime": {
     "end_time": "2025-01-21T13:02:27.032082Z",
     "start_time": "2025-01-21T13:02:26.901678Z"
    }
   },
   "source": [
    "#画线要注意的是损失是不一定在零到1之间的\n",
    "def plot_learning_curves(record_dict, sample_step=1000):\n",
    "    # build DataFrame\n",
    "    train_df = pd.DataFrame(record_dict[\"train\"]).set_index(\"step\").iloc[::sample_step]\n",
    "    val_df = pd.DataFrame(record_dict[\"val\"]).set_index(\"step\")\n",
    "    last_step = train_df.index[-1] # 最后一步的步数\n",
    "    # print(train_df.columns)\n",
    "    print(train_df['acc'])\n",
    "    print(val_df['acc'])\n",
    "    # plot\n",
    "    fig_num = len(train_df.columns) # 画几张图,分别是损失和准确率\n",
    "    fig, axs = plt.subplots(1, fig_num, figsize=(5 * fig_num, 5))\n",
    "    for idx, item in enumerate(train_df.columns):\n",
    "        # print(train_df[item].values)\n",
    "        axs[idx].plot(train_df.index, train_df[item], label=f\"train_{item}\")\n",
    "        axs[idx].plot(val_df.index, val_df[item], label=f\"val_{item}\")\n",
    "        axs[idx].grid() # 显示网格\n",
    "        axs[idx].legend() # 显示图例\n",
    "        axs[idx].set_xticks(range(0, train_df.index[-1], 5000)) # 设置x轴刻度\n",
    "        axs[idx].set_xticklabels(map(lambda x: f\"{int(x/1000)}k\", range(0, last_step, 5000))) # 设置x轴标签\n",
    "        axs[idx].set_xlabel(\"step\")\n",
    "    \n",
    "    plt.show()\n",
    "\n",
    "plot_learning_curves(record)  #横坐标是 steps"
   ],
   "outputs": [
    {
     "name": "stdout",
     "output_type": "stream",
     "text": [
      "step\n",
      "0        0.03125\n",
      "1000     0.87500\n",
      "2000     0.75000\n",
      "3000     0.90625\n",
      "4000     0.78125\n",
      "5000     0.81250\n",
      "6000     0.71875\n",
      "7000     0.75000\n",
      "8000     0.81250\n",
      "9000     0.78125\n",
      "10000    0.90625\n",
      "11000    0.84375\n",
      "12000    0.87500\n",
      "13000    0.75000\n",
      "14000    0.75000\n",
      "15000    1.00000\n",
      "16000    0.90625\n",
      "17000    0.90625\n",
      "18000    0.75000\n",
      "19000    0.78125\n",
      "20000    0.90625\n",
      "21000    0.87500\n",
      "22000    0.87500\n",
      "23000    0.90625\n",
      "24000    0.78125\n",
      "25000    0.96875\n",
      "26000    0.81250\n",
      "27000    0.87500\n",
      "28000    0.84375\n",
      "29000    0.93750\n",
      "30000    0.90625\n",
      "31000    0.87500\n",
      "32000    0.93750\n",
      "33000    0.87500\n",
      "34000    0.93750\n",
      "35000    0.93750\n",
      "36000    0.96875\n",
      "37000    0.93750\n",
      "Name: acc, dtype: float64\n",
      "step\n",
      "0        0.0580\n",
      "1000     0.6741\n",
      "2000     0.7569\n",
      "3000     0.7851\n",
      "4000     0.7942\n",
      "5000     0.8189\n",
      "6000     0.8169\n",
      "7000     0.8265\n",
      "8000     0.8251\n",
      "9000     0.8333\n",
      "10000    0.8359\n",
      "11000    0.8393\n",
      "12000    0.8427\n",
      "13000    0.8460\n",
      "14000    0.8476\n",
      "15000    0.8521\n",
      "16000    0.8427\n",
      "17000    0.8558\n",
      "18000    0.8528\n",
      "19000    0.8596\n",
      "20000    0.8580\n",
      "21000    0.8583\n",
      "22000    0.8598\n",
      "23000    0.8597\n",
      "24000    0.8615\n",
      "25000    0.8643\n",
      "26000    0.8613\n",
      "27000    0.8644\n",
      "28000    0.8602\n",
      "29000    0.8691\n",
      "30000    0.8658\n",
      "31000    0.8630\n",
      "32000    0.8720\n",
      "33000    0.8714\n",
      "34000    0.8685\n",
      "35000    0.8774\n",
      "36000    0.8593\n",
      "37000    0.8738\n",
      "Name: acc, dtype: float64\n"
     ]
    },
    {
     "data": {
      "text/plain": [
       "<Figure size 1000x500 with 2 Axes>"
      ],
      "image/png": "[encoded data removed]"
     },
     "metadata": {},
     "output_type": "display_data"
    }
   ],
   "execution_count": 33
  },
  {
   "cell_type": "markdown",
   "metadata": {},
   "source": [
    "## 评估"
   ]
  },
  {
   "cell_type": "code",
   "metadata": {
    "ExecuteTime": {
     "end_time": "2025-01-21T13:02:50.607326Z",
     "start_time": "2025-01-21T13:02:49.872560Z"
    }
   },
   "source": [
    "# dataload for evaluating\n",
    "\n",
    "model.eval() # 进入评估模式\n",
    "loss, acc = evaluating(model, val_loader, loss_fct)\n",
    "print(f\"loss:     {loss:.4f}\\naccuracy: {acc:.4f}\")"
   ],
   "outputs": [
    {
     "name": "stdout",
     "output_type": "stream",
     "text": [
      "loss:     0.3544\n",
      "accuracy: 0.8735\n"
     ]
    }
   ],
   "execution_count": 34
  },
  {
   "metadata": {},
   "cell_type": "code",
   "outputs": [],
   "execution_count": null,
   "source": ""
  }
 ],
 "metadata": {
  "kernelspec": {
   "display_name": "Python 3 (ipykernel)",
   "language": "python",
   "name": "python3"
  },
  "language_info": {
   "codemirror_mode": {
    "name": "ipython",
    "version": 3
   },
   "file_extension": ".py",
   "mimetype": "text/x-python",
   "name": "python",
   "nbconvert_exporter": "python",
   "pygments_lexer": "ipython3",
   "version": "3.9.7"
  }
 },
 "nbformat": 4,
 "nbformat_minor": 2
}
