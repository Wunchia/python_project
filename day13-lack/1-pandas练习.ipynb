{
 "cells": [
  {
   "metadata": {},
   "cell_type": "markdown",
   "source": "# 基础练习",
   "id": "51003e1be72940a7"
  },
  {
   "metadata": {},
   "cell_type": "code",
   "outputs": [],
   "execution_count": null,
   "source": [
    "# 创建DataFrame:\n",
    "# 使用字典创建一个DataFrame，包含姓名、年龄、性别等列。\n",
    "# 使用列表创建一个DataFrame。"
   ],
   "id": "e22bc7e48e00ed1c"
  },
  {
   "metadata": {},
   "cell_type": "code",
   "outputs": [],
   "execution_count": null,
   "source": [
    "# 索引与选择:\n",
    "# 选择DataFrame中的特定列。\n",
    "# 选择DataFrame中的特定行。\n",
    "# 使用标签和位置索引选取数据。"
   ],
   "id": "e89e79e1c3d58ff1"
  },
  {
   "metadata": {},
   "cell_type": "code",
   "outputs": [],
   "execution_count": null,
   "source": [
    "# 数据查看:\n",
    "# 查看DataFrame的前五行和后五行。\n",
    "# 查看DataFrame的维度、列名、索引。"
   ],
   "id": "95b124f2b32d2765"
  },
  {
   "metadata": {},
   "cell_type": "code",
   "outputs": [],
   "execution_count": null,
   "source": [
    "# 数据清洗:\n",
    "# 删除重复的行。\n",
    "# 处理缺失值（填充、删除）。\n",
    "# 更改数据类型。"
   ],
   "id": "5eaab773e37735f"
  },
  {
   "metadata": {},
   "cell_type": "code",
   "outputs": [],
   "execution_count": null,
   "source": [
    "# 数据筛选:\n",
    "# 根据条件筛选数据。\n",
    "# 使用布尔索引筛选数据。"
   ],
   "id": "b92ef84cd51b077d"
  },
  {
   "metadata": {},
   "cell_type": "markdown",
   "source": "# 进阶练习",
   "id": "78ed96d7835f8c95"
  },
  {
   "metadata": {},
   "cell_type": "code",
   "outputs": [],
   "execution_count": null,
   "source": [
    "# 分组与聚合:\n",
    "# 根据某个特征对数据进行分组。\n",
    "# 计算分组数据的统计量（均值、方差、数量等）。"
   ],
   "id": "57c0f771931fcec2"
  },
  {
   "metadata": {},
   "cell_type": "code",
   "outputs": [],
   "execution_count": null,
   "source": [
    "# 排序:\n",
    "# 按指定列对DataFrame进行排序。"
   ],
   "id": "a0c3ed988bda6c65"
  },
  {
   "metadata": {},
   "cell_type": "code",
   "outputs": [],
   "execution_count": null,
   "source": [
    "# 合并与连接:\n",
    "# 将两个DataFrame按指定列进行合并。\n",
    "# 将一个DataFrame中的数据添加到另一个DataFrame中。"
   ],
   "id": "9d8b420c3c17b976"
  },
  {
   "metadata": {},
   "cell_type": "code",
   "outputs": [],
   "execution_count": null,
   "source": [
    "# 透视表:\n",
    "# 创建透视表进行数据汇总。"
   ],
   "id": "7e30a356f42bd583"
  },
  {
   "metadata": {},
   "cell_type": "code",
   "outputs": [],
   "execution_count": null,
   "source": [
    "# 时间序列:\n",
    "# 创建时间序列数据。\n",
    "# 对时间序列数据进行切片和索引。"
   ],
   "id": "a420fade95b39099"
  },
  {
   "metadata": {},
   "cell_type": "markdown",
   "source": "# 应用练习",
   "id": "b81a68a83bfbe13c"
  },
  {
   "metadata": {},
   "cell_type": "code",
   "outputs": [],
   "execution_count": null,
   "source": [
    "# 数据清洗与预处理:\n",
    "# 读取一个CSV文件，并进行数据清洗和预处理。"
   ],
   "id": "b32795913be999fc"
  },
  {
   "metadata": {},
   "cell_type": "code",
   "outputs": [],
   "execution_count": null,
   "source": [
    "# 特征工程:\n",
    "# 创建新的特征。\n",
    "# 对特征进行编码（如One-Hot编码）。"
   ],
   "id": "2bb4f294f1d3b2e4"
  },
  {
   "metadata": {},
   "cell_type": "code",
   "outputs": [],
   "execution_count": null,
   "source": [
    "# 探索性数据分析:\n",
    "# 计算数据的描述性统计量。\n",
    "# 绘制数据的分布图、箱线图等。"
   ],
   "id": "ca692d192de25e63"
  },
  {
   "metadata": {},
   "cell_type": "code",
   "outputs": [],
   "execution_count": null,
   "source": [
    "# 数据可视化:\n",
    "# 使用matplotlib或seaborn库对数据进行可视化。\n",
    "# 数据分组和聚合:\n",
    "# 对不同类别的数据进行分组，并计算统计量。"
   ],
   "id": "9d74ebacec822db0"
  },
  {
   "metadata": {},
   "cell_type": "markdown",
   "source": "# 进阶应用",
   "id": "d2b04d7e0e2ae53"
  },
  {
   "metadata": {},
   "cell_type": "code",
   "outputs": [],
   "execution_count": null,
   "source": [
    "# 时间序列分析:\n",
    "# 对时间序列数据进行平稳性检验。\n",
    "# 建立ARIMA模型进行预测。"
   ],
   "id": "283924b8d7a7c35b"
  },
  {
   "metadata": {},
   "cell_type": "code",
   "outputs": [],
   "execution_count": null,
   "source": [
    "# 机器学习:\n",
    "# 使用Pandas准备数据，并将其输入到机器学习模型中。"
   ],
   "id": "17fd7a1ebe116e94"
  },
  {
   "metadata": {},
   "cell_type": "code",
   "outputs": [],
   "execution_count": null,
   "source": [
    "# 文本数据处理:\n",
    "# 读取文本数据，并进行文本预处理。"
   ],
   "id": "6be3fd49faf9effb"
  },
  {
   "metadata": {},
   "cell_type": "code",
   "outputs": [],
   "execution_count": null,
   "source": [
    "# 数据清洗与整合:\n",
    "# 从多个数据源中获取数据，并进行清洗和整合。"
   ],
   "id": "7953c71de91a55ab"
  },
  {
   "metadata": {},
   "cell_type": "code",
   "outputs": [],
   "execution_count": null,
   "source": [
    "# 性能优化:\n",
    "# 使用高效的方法处理大数据集。"
   ],
   "id": "487fb45020b8b2ab"
  }
 ],
 "metadata": {
  "kernelspec": {
   "display_name": "Python 3",
   "language": "python",
   "name": "python3"
  },
  "language_info": {
   "codemirror_mode": {
    "name": "ipython",
    "version": 2
   },
   "file_extension": ".py",
   "mimetype": "text/x-python",
   "name": "python",
   "nbconvert_exporter": "python",
   "pygments_lexer": "ipython2",
   "version": "2.7.6"
  }
 },
 "nbformat": 4,
 "nbformat_minor": 5
}
