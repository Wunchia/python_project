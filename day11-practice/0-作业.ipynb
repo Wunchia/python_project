{
 "cells": [
  {
   "cell_type": "code",
   "execution_count": null,
   "id": "initial_id",
   "metadata": {
    "collapsed": true
   },
   "outputs": [],
   "source": [
    "# 1、使用matplotlib完成折线图，散点图，条形图，直方图，饼状图绘制\n",
    "# 2、完成Numpy的数组和原生python的性能对比\n",
    "# 3、Numpy的ndarray的一维，二维的操作，常用属性，形状调整，与python list的互相转换\n",
    "# 4、掌握numpy的数据类型，练习数组和数的运算，数组和数组的运算，理解数组的轴\n",
    "# 5、使用数组的索引和切片，掌握数组数值修改\n",
    "# \n",
    "# 所有代码编写与上课一致\n",
    "# 直接把写好的jupyter文件，提交到共享目录即可\n",
    "# \n",
    "# 难度作业：（完成基础作业即可提交）\n",
    "# \n",
    "# 6、使用数组添加，删除，去重\n",
    "# 7、使用最大，最小，平均值等各种计算"
   ]
  }
 ],
 "metadata": {
  "kernelspec": {
   "display_name": "Python 3",
   "language": "python",
   "name": "python3"
  },
  "language_info": {
   "codemirror_mode": {
    "name": "ipython",
    "version": 2
   },
   "file_extension": ".py",
   "mimetype": "text/x-python",
   "name": "python",
   "nbconvert_exporter": "python",
   "pygments_lexer": "ipython2",
   "version": "2.7.6"
  }
 },
 "nbformat": 4,
 "nbformat_minor": 5
}
