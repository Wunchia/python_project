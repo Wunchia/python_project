{
 "cells": [
  {
   "metadata": {
    "ExecuteTime": {
     "end_time": "2025-01-06T16:21:17.839570Z",
     "start_time": "2025-01-06T16:21:17.820129Z"
    }
   },
   "cell_type": "code",
   "source": [
    "import numpy as np\n",
    "#列表如何转化为ndarray\n",
    "list1=[1,2,3,4,5,6,7,8,9,10]\n",
    "nlist=np.array(list1)\n",
    "print(type(list))\n",
    "print(type(nlist))"
   ],
   "id": "2009e1dd8dbf552b",
   "outputs": [
    {
     "name": "stdout",
     "output_type": "stream",
     "text": [
      "<class 'type'>\n",
      "<class 'numpy.ndarray'>\n"
     ]
    }
   ],
   "execution_count": 2
  },
  {
   "metadata": {
    "ExecuteTime": {
     "end_time": "2025-01-06T16:24:35.114815Z",
     "start_time": "2025-01-06T16:24:25.429522Z"
    }
   },
   "cell_type": "code",
   "source": [
    "#计算效率对比\n",
    "import random\n",
    "import time\n",
    "a = []\n",
    "for i in range(10**8):\n",
    "    a.append(random.random())\n",
    "    \n",
    "#python内置函数sum计算效率较低  \n",
    "t1 = time.time()\n",
    "sum1 = sum(a)\n",
    "t2 = time.time()\n",
    "\n",
    "b = np.array(a)\n",
    "#numpy的sum计算效率较高\n",
    "t3 = time.time()\n",
    "sum2 = np.sum(b)\n",
    "t4 = time.time()\n",
    "\n",
    "print(t2 - t1, t4 - t3)"
   ],
   "id": "a5dd0252381e8f20",
   "outputs": [
    {
     "name": "stdout",
     "output_type": "stream",
     "text": [
      "0.32733845710754395 0.059372663497924805\n"
     ]
    }
   ],
   "execution_count": 5
  },
  {
   "metadata": {},
   "cell_type": "code",
   "outputs": [],
   "execution_count": null,
   "source": "",
   "id": "5490fcab6af801c7"
  }
 ],
 "metadata": {
  "kernelspec": {
   "display_name": "Python 3",
   "language": "python",
   "name": "python3"
  },
  "language_info": {
   "codemirror_mode": {
    "name": "ipython",
    "version": 2
   },
   "file_extension": ".py",
   "mimetype": "text/x-python",
   "name": "python",
   "nbconvert_exporter": "python",
   "pygments_lexer": "ipython2",
   "version": "2.7.6"
  }
 },
 "nbformat": 4,
 "nbformat_minor": 5
}
