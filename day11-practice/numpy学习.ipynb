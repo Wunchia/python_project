{
 "cells": [
  {
   "metadata": {
    "ExecuteTime": {
     "end_time": "2025-01-07T01:39:51.060157Z",
     "start_time": "2025-01-07T01:39:50.665617Z"
    }
   },
   "cell_type": "code",
   "source": [
    "import numpy as np\n",
    "#列表如何转化为ndarray\n",
    "list1=[1,2,3,4,5,6,7,8,9,10]\n",
    "nlist=np.array(list1)\n",
    "print(type(list))\n",
    "print(type(nlist))"
   ],
   "id": "2009e1dd8dbf552b",
   "outputs": [
    {
     "name": "stdout",
     "output_type": "stream",
     "text": [
      "<class 'type'>\n",
      "<class 'numpy.ndarray'>\n"
     ]
    }
   ],
   "execution_count": 2
  },
  {
   "metadata": {
    "ExecuteTime": {
     "end_time": "2025-01-07T01:40:05.522354Z",
     "start_time": "2025-01-07T01:39:54.644636Z"
    }
   },
   "cell_type": "code",
   "source": [
    "#计算效率对比\n",
    "import random\n",
    "import time\n",
    "a = []\n",
    "for i in range(10**8):\n",
    "    a.append(random.random())\n",
    "    \n",
    "#python内置函数sum计算效率较低  \n",
    "t1 = time.time()\n",
    "sum1 = sum(a)\n",
    "t2 = time.time()\n",
    "\n",
    "b = np.array(a)\n",
    "#numpy的sum计算效率较高\n",
    "t3 = time.time()\n",
    "sum2 = np.sum(b)\n",
    "t4 = time.time()\n",
    "\n",
    "print(t2 - t1, t4 - t3)"
   ],
   "id": "a5dd0252381e8f20",
   "outputs": [
    {
     "name": "stdout",
     "output_type": "stream",
     "text": [
      "0.5396323204040527 0.09050941467285156\n"
     ]
    }
   ],
   "execution_count": 3
  },
  {
   "metadata": {
    "ExecuteTime": {
     "end_time": "2025-01-07T01:40:24.527159Z",
     "start_time": "2025-01-07T01:40:23.735329Z"
    }
   },
   "cell_type": "code",
   "source": [
    "#创建一维数组\n",
    "a = np.array([1,2,3,4,5])\n",
    "b=np.array(range(10))\n",
    "c=np.arange(0,10,2)\n",
    "print(a,type(a))\n",
    "print(b,type(b))\n",
    "print(c,type(c))"
   ],
   "id": "5490fcab6af801c7",
   "outputs": [
    {
     "name": "stdout",
     "output_type": "stream",
     "text": [
      "[1 2 3 4 5] <class 'numpy.ndarray'>\n",
      "[0 1 2 3 4 5 6 7 8 9] <class 'numpy.ndarray'>\n",
      "[0 2 4 6 8] <class 'numpy.ndarray'>\n"
     ]
    }
   ],
   "execution_count": 4
  },
  {
   "metadata": {
    "ExecuteTime": {
     "end_time": "2025-01-07T02:15:40.603967Z",
     "start_time": "2025-01-07T02:15:40.600265Z"
    }
   },
   "cell_type": "code",
   "source": [
    "#创建二维数组\n",
    "list=[[1,2],[3,4],[5,6]]\n",
    "twoarray=np.array(list)\n",
    "print(twoarray)\n",
    "print('-'*20)\n",
    "print(twoarray.shape)# 形状\n",
    "print(twoarray.size)# 元素个数\n",
    "print(twoarray.dtype)# 数据类型\n",
    "print(twoarray.ndim)# 数组维度"
   ],
   "id": "ac4be62ffc04e88d",
   "outputs": [
    {
     "name": "stdout",
     "output_type": "stream",
     "text": [
      "[[1 2]\n",
      " [3 4]\n",
      " [5 6]]\n",
      "--------------------\n",
      "(3, 2)\n",
      "6\n",
      "int64\n",
      "2\n"
     ]
    }
   ],
   "execution_count": 8
  },
  {
   "metadata": {
    "ExecuteTime": {
     "end_time": "2025-01-07T06:06:46.210081Z",
     "start_time": "2025-01-07T06:06:46.205328Z"
    }
   },
   "cell_type": "code",
   "source": [
    "#调整数组形状\n",
    "list=[1,2,3,4,5,6]\n",
    "a=np.array(list)\n",
    "print(a)\n",
    "print(a.shape)\n",
    "print('-'*20)\n",
    "a.shape=(3,2)# a改变\n",
    "print(a,a.shape)\n",
    "print('-'*20)\n",
    "b=a.reshape((2,3))# a不改变 将改变赋给b\n",
    "print(b,b.shape)\n",
    "print(a,a.shape)\n",
    "print('-'*20)\n",
    "c=b.reshape((6,))\n",
    "print(c,c.shape)"
   ],
   "id": "6e6891cef70c8ecb",
   "outputs": [
    {
     "name": "stdout",
     "output_type": "stream",
     "text": [
      "[1 2 3 4 5 6]\n",
      "(6,)\n",
      "--------------------\n",
      "[[1 2]\n",
      " [3 4]\n",
      " [5 6]] (3, 2)\n",
      "--------------------\n",
      "[[1 2 3]\n",
      " [4 5 6]] (2, 3)\n",
      "[[1 2]\n",
      " [3 4]\n",
      " [5 6]] (3, 2)\n",
      "--------------------\n",
      "[1 2 3 4 5 6] (6,)\n"
     ]
    }
   ],
   "execution_count": 19
  },
  {
   "metadata": {
    "ExecuteTime": {
     "end_time": "2025-01-07T06:04:19.323817Z",
     "start_time": "2025-01-07T06:04:19.320358Z"
    }
   },
   "cell_type": "code",
   "source": [
    "#将数组转成list\n",
    "a=np.array([1,2,3,4,5,6])\n",
    "print(type(a))\n",
    "list=a.tolist()\n",
    "print(list)\n",
    "print(type(list))"
   ],
   "id": "3df5df6292ea14e0",
   "outputs": [
    {
     "name": "stdout",
     "output_type": "stream",
     "text": [
      "<class 'numpy.ndarray'>\n",
      "[1, 2, 3, 4, 5, 6]\n",
      "<class 'list'>\n"
     ]
    }
   ],
   "execution_count": 18
  },
  {
   "metadata": {
    "ExecuteTime": {
     "end_time": "2025-01-07T14:50:03.493860Z",
     "start_time": "2025-01-07T14:50:03.489523Z"
    }
   },
   "cell_type": "code",
   "source": [
    "# 返回数组中每个元素的字节单位长度，dtype设置数据类型\n",
    "f = np.array([1,2,3,4,5], dtype = np.int16)\n",
    "print(f.itemsize) # 1 np.int8(一个字节)\n",
    "# 获取数据类型\n",
    "print(f.dtype)\n",
    "# 调整数据类型\n",
    "f1 = f.astype(np.int64)\n",
    "print(f1.dtype)\n",
    "# 拓展随机生成小数\n",
    "print(round(random.random(),2))#round()舍入，不传第二个参数时舍入到整数，传2保留两位小数\n",
    "arr = np.array([random.random() for i in range(10)])\n",
    "# 取小数点后两位\n",
    "print(np.round(arr,2))\n",
    "print(arr.dtype)\n",
    "arr1=np.astype(arr,np.float16)\n",
    "print(arr1.dtype)"
   ],
   "id": "ed423a858dac9d59",
   "outputs": [
    {
     "name": "stdout",
     "output_type": "stream",
     "text": [
      "2\n",
      "int16\n",
      "int64\n",
      "0.95\n",
      "[0.83 0.69 0.48 0.31 0.5  0.35 0.73 0.63 0.36 0.95]\n",
      "float64\n",
      "float16\n"
     ]
    }
   ],
   "execution_count": 28
  },
  {
   "metadata": {
    "ExecuteTime": {
     "end_time": "2025-01-07T14:57:00.534956Z",
     "start_time": "2025-01-07T14:57:00.524310Z"
    }
   },
   "cell_type": "code",
   "source": [
    "#数组和数的计算 广播机制\n",
    "a=np.arange(6).reshape(2,3)\n",
    "print(a)\n",
    "print(a+2)\n",
    "print(a*2)\n",
    "print(a/2)\n",
    "print(a**2)\n",
    "print('-'*20)\n",
    "b=a.tolist()\n",
    "print(b)\n",
    "print(b+2)#对一般python列表不可操作"
   ],
   "id": "2ceecb676782dc02",
   "outputs": [
    {
     "name": "stdout",
     "output_type": "stream",
     "text": [
      "[[0 1 2]\n",
      " [3 4 5]]\n",
      "[[2 3 4]\n",
      " [5 6 7]]\n",
      "[[ 0  2  4]\n",
      " [ 6  8 10]]\n",
      "[[0.  0.5 1. ]\n",
      " [1.5 2.  2.5]]\n",
      "[[ 0  1  4]\n",
      " [ 9 16 25]]\n",
      "--------------------\n",
      "[[0, 1, 2], [3, 4, 5]]\n"
     ]
    },
    {
     "ename": "TypeError",
     "evalue": "can only concatenate list (not \"int\") to list",
     "output_type": "error",
     "traceback": [
      "\u001B[1;31m---------------------------------------------------------------------------\u001B[0m",
      "\u001B[1;31mTypeError\u001B[0m                                 Traceback (most recent call last)",
      "Cell \u001B[1;32mIn[30], line 11\u001B[0m\n\u001B[0;32m      9\u001B[0m b\u001B[38;5;241m=\u001B[39ma\u001B[38;5;241m.\u001B[39mtolist()\n\u001B[0;32m     10\u001B[0m \u001B[38;5;28mprint\u001B[39m(b)\n\u001B[1;32m---> 11\u001B[0m \u001B[38;5;28mprint\u001B[39m(\u001B[43mb\u001B[49m\u001B[38;5;241;43m+\u001B[39;49m\u001B[38;5;241;43m2\u001B[39;49m)\n",
      "\u001B[1;31mTypeError\u001B[0m: can only concatenate list (not \"int\") to list"
     ]
    }
   ],
   "execution_count": 30
  },
  {
   "metadata": {
    "ExecuteTime": {
     "end_time": "2025-01-07T15:00:11.153471Z",
     "start_time": "2025-01-07T15:00:11.149633Z"
    }
   },
   "cell_type": "code",
   "source": [
    "#数组和数组的运算\n",
    "#形状相同,才可以进行加减乘除\n",
    "t1 = np.arange(6).reshape((3, 2))\n",
    "t2 = np.arange(100, 106).reshape((3, 2))\n",
    "print(t1)\n",
    "print(t2)\n",
    "print('-' * 50)\n",
    "print(t1 + t2)\n",
    "print('-' * 50)\n",
    "print(t1 * t2)  #不是矩阵乘法 只是逐项相乘"
   ],
   "id": "7ff530f0f7c6649d",
   "outputs": [
    {
     "name": "stdout",
     "output_type": "stream",
     "text": [
      "[[0 1]\n",
      " [2 3]\n",
      " [4 5]]\n",
      "[[100 101]\n",
      " [102 103]\n",
      " [104 105]]\n",
      "--------------------------------------------------\n",
      "[[100 102]\n",
      " [104 106]\n",
      " [108 110]]\n",
      "--------------------------------------------------\n",
      "[[  0 101]\n",
      " [204 309]\n",
      " [416 525]]\n"
     ]
    }
   ],
   "execution_count": 33
  },
  {
   "metadata": {
    "ExecuteTime": {
     "end_time": "2025-01-07T15:04:46.438874Z",
     "start_time": "2025-01-07T15:04:46.429290Z"
    }
   },
   "cell_type": "code",
   "source": [
    "#shape不同，不能进行运算\n",
    "t1 = np.arange(24).reshape((4, 6))\n",
    "t2 = np.arange(6).reshape((3, 6))\n",
    "print(t1)\n",
    "print(t2)\n",
    "print(t1 - t2)"
   ],
   "id": "112a5d9b560cf76e",
   "outputs": [
    {
     "ename": "ValueError",
     "evalue": "cannot reshape array of size 6 into shape (3,6)",
     "output_type": "error",
     "traceback": [
      "\u001B[1;31m---------------------------------------------------------------------------\u001B[0m",
      "\u001B[1;31mValueError\u001B[0m                                Traceback (most recent call last)",
      "Cell \u001B[1;32mIn[34], line 3\u001B[0m\n\u001B[0;32m      1\u001B[0m \u001B[38;5;66;03m#shape不同，不能进行运算\u001B[39;00m\n\u001B[0;32m      2\u001B[0m t1 \u001B[38;5;241m=\u001B[39m np\u001B[38;5;241m.\u001B[39marange(\u001B[38;5;241m24\u001B[39m)\u001B[38;5;241m.\u001B[39mreshape((\u001B[38;5;241m4\u001B[39m, \u001B[38;5;241m6\u001B[39m))\n\u001B[1;32m----> 3\u001B[0m t2 \u001B[38;5;241m=\u001B[39m \u001B[43mnp\u001B[49m\u001B[38;5;241;43m.\u001B[39;49m\u001B[43marange\u001B[49m\u001B[43m(\u001B[49m\u001B[38;5;241;43m6\u001B[39;49m\u001B[43m)\u001B[49m\u001B[38;5;241;43m.\u001B[39;49m\u001B[43mreshape\u001B[49m\u001B[43m(\u001B[49m\u001B[43m(\u001B[49m\u001B[38;5;241;43m3\u001B[39;49m\u001B[43m,\u001B[49m\u001B[43m \u001B[49m\u001B[38;5;241;43m6\u001B[39;49m\u001B[43m)\u001B[49m\u001B[43m)\u001B[49m\n\u001B[0;32m      4\u001B[0m \u001B[38;5;28mprint\u001B[39m(t1)\n\u001B[0;32m      5\u001B[0m \u001B[38;5;28mprint\u001B[39m(t2)\n",
      "\u001B[1;31mValueError\u001B[0m: cannot reshape array of size 6 into shape (3,6)"
     ]
    }
   ],
   "execution_count": 34
  },
  {
   "metadata": {
    "ExecuteTime": {
     "end_time": "2025-01-07T15:11:22.389124Z",
     "start_time": "2025-01-07T15:11:22.384860Z"
    }
   },
   "cell_type": "code",
   "source": [
    "#一维数组和二维数组进行运算时，一维的 元素个数 和 列数 相等\n",
    "t1 = np.arange(24).reshape((4, 6))\n",
    "t2 = np.arange(6).reshape((1, 6))\n",
    "print(t2.shape)\n",
    "print(t1)\n",
    "print('-'*10)\n",
    "print(t2)\n",
    "print('-'*20)\n",
    "print(t1 - t2) #逐行减 因此t1第一列均减0 第二列均减1 第三列均减2……"
   ],
   "id": "67a2ec9b4e036637",
   "outputs": [
    {
     "name": "stdout",
     "output_type": "stream",
     "text": [
      "(1, 6)\n",
      "[[ 0  1  2  3  4  5]\n",
      " [ 6  7  8  9 10 11]\n",
      " [12 13 14 15 16 17]\n",
      " [18 19 20 21 22 23]]\n",
      "----------\n",
      "[[0 1 2 3 4 5]]\n",
      "--------------------\n",
      "[[ 0  0  0  0  0  0]\n",
      " [ 6  6  6  6  6  6]\n",
      " [12 12 12 12 12 12]\n",
      " [18 18 18 18 18 18]]\n"
     ]
    }
   ],
   "execution_count": 37
  },
  {
   "metadata": {
    "ExecuteTime": {
     "end_time": "2025-01-07T15:12:44.456797Z",
     "start_time": "2025-01-07T15:12:44.452956Z"
    }
   },
   "cell_type": "code",
   "source": [
    "t1 = np.arange(24).reshape((4, 6))\n",
    "t2 = np.arange(4).reshape((4, 1))\n",
    "print(t2)\n",
    "print('-'*10)\n",
    "print(t1)\n",
    "print('-'*20)\n",
    "print(t1 - t2) #逐列减 因此第一行均减0，第二行均减1，第三行均减2……"
   ],
   "id": "a39cd8110cc94e22",
   "outputs": [
    {
     "name": "stdout",
     "output_type": "stream",
     "text": [
      "[[0]\n",
      " [1]\n",
      " [2]\n",
      " [3]]\n",
      "[[ 0  1  2  3  4  5]\n",
      " [ 6  7  8  9 10 11]\n",
      " [12 13 14 15 16 17]\n",
      " [18 19 20 21 22 23]]\n",
      "--------------------\n",
      "[[ 0  1  2  3  4  5]\n",
      " [ 5  6  7  8  9 10]\n",
      " [10 11 12 13 14 15]\n",
      " [15 16 17 18 19 20]]\n"
     ]
    }
   ],
   "execution_count": 38
  },
  {
   "metadata": {
    "ExecuteTime": {
     "end_time": "2025-01-07T15:15:40.104356Z",
     "start_time": "2025-01-07T15:15:40.100713Z"
    }
   },
   "cell_type": "code",
   "source": [
    "#随机3维数组\n",
    "a = np.arange(24).reshape((2, 3, 4))\n",
    "b = np.arange(12).reshape((1, 3, 4))\n",
    "print(a)\n",
    "print('-'*10)\n",
    "print(b)\n",
    "print('-'*20)\n",
    "print(a-b) #将维数相同的部分 整体拿来 在维数不同的那根轴上遍历做运算，其中一个ndarray在该轴上维数必须为1"
   ],
   "id": "1a271d7fd379a976",
   "outputs": [
    {
     "name": "stdout",
     "output_type": "stream",
     "text": [
      "[[[ 0  1  2  3]\n",
      "  [ 4  5  6  7]\n",
      "  [ 8  9 10 11]]\n",
      "\n",
      " [[12 13 14 15]\n",
      "  [16 17 18 19]\n",
      "  [20 21 22 23]]]\n",
      "----------\n",
      "[[[ 0  1  2  3]\n",
      "  [ 4  5  6  7]\n",
      "  [ 8  9 10 11]]]\n",
      "--------------------\n",
      "[[[ 0  0  0  0]\n",
      "  [ 0  0  0  0]\n",
      "  [ 0  0  0  0]]\n",
      "\n",
      " [[12 12 12 12]\n",
      "  [12 12 12 12]\n",
      "  [12 12 12 12]]]\n"
     ]
    }
   ],
   "execution_count": 40
  },
  {
   "metadata": {},
   "cell_type": "code",
   "outputs": [],
   "execution_count": null,
   "source": "",
   "id": "ebd7b173b7585139"
  }
 ],
 "metadata": {
  "kernelspec": {
   "display_name": "Python 3",
   "language": "python",
   "name": "python3"
  },
  "language_info": {
   "codemirror_mode": {
    "name": "ipython",
    "version": 2
   },
   "file_extension": ".py",
   "mimetype": "text/x-python",
   "name": "python",
   "nbconvert_exporter": "python",
   "pygments_lexer": "ipython2",
   "version": "2.7.6"
  }
 },
 "nbformat": 4,
 "nbformat_minor": 5
}
