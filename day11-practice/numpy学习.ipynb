{
 "cells": [
  {
   "metadata": {
    "ExecuteTime": {
     "end_time": "2025-01-07T01:39:51.060157Z",
     "start_time": "2025-01-07T01:39:50.665617Z"
    }
   },
   "cell_type": "code",
   "source": [
    "import numpy as np\n",
    "#列表如何转化为ndarray\n",
    "list1=[1,2,3,4,5,6,7,8,9,10]\n",
    "nlist=np.array(list1)\n",
    "print(type(list))\n",
    "print(type(nlist))"
   ],
   "id": "2009e1dd8dbf552b",
   "outputs": [
    {
     "name": "stdout",
     "output_type": "stream",
     "text": [
      "<class 'type'>\n",
      "<class 'numpy.ndarray'>\n"
     ]
    }
   ],
   "execution_count": 2
  },
  {
   "metadata": {
    "ExecuteTime": {
     "end_time": "2025-01-07T01:40:05.522354Z",
     "start_time": "2025-01-07T01:39:54.644636Z"
    }
   },
   "cell_type": "code",
   "source": [
    "#计算效率对比\n",
    "import random\n",
    "import time\n",
    "a = []\n",
    "for i in range(10**8):\n",
    "    a.append(random.random())\n",
    "    \n",
    "#python内置函数sum计算效率较低  \n",
    "t1 = time.time()\n",
    "sum1 = sum(a)\n",
    "t2 = time.time()\n",
    "\n",
    "b = np.array(a)\n",
    "#numpy的sum计算效率较高\n",
    "t3 = time.time()\n",
    "sum2 = np.sum(b)\n",
    "t4 = time.time()\n",
    "\n",
    "print(t2 - t1, t4 - t3)"
   ],
   "id": "a5dd0252381e8f20",
   "outputs": [
    {
     "name": "stdout",
     "output_type": "stream",
     "text": [
      "0.5396323204040527 0.09050941467285156\n"
     ]
    }
   ],
   "execution_count": 3
  },
  {
   "metadata": {
    "ExecuteTime": {
     "end_time": "2025-01-07T01:40:24.527159Z",
     "start_time": "2025-01-07T01:40:23.735329Z"
    }
   },
   "cell_type": "code",
   "source": [
    "#创建一维数组\n",
    "a = np.array([1,2,3,4,5])\n",
    "b=np.array(range(10))\n",
    "c=np.arange(0,10,2)\n",
    "print(a,type(a))\n",
    "print(b,type(b))\n",
    "print(c,type(c))"
   ],
   "id": "5490fcab6af801c7",
   "outputs": [
    {
     "name": "stdout",
     "output_type": "stream",
     "text": [
      "[1 2 3 4 5] <class 'numpy.ndarray'>\n",
      "[0 1 2 3 4 5 6 7 8 9] <class 'numpy.ndarray'>\n",
      "[0 2 4 6 8] <class 'numpy.ndarray'>\n"
     ]
    }
   ],
   "execution_count": 4
  },
  {
   "metadata": {
    "ExecuteTime": {
     "end_time": "2025-01-07T02:15:40.603967Z",
     "start_time": "2025-01-07T02:15:40.600265Z"
    }
   },
   "cell_type": "code",
   "source": [
    "#创建二维数组\n",
    "list=[[1,2],[3,4],[5,6]]\n",
    "twoarray=np.array(list)\n",
    "print(twoarray)\n",
    "print('-'*20)\n",
    "print(twoarray.shape)# 形状\n",
    "print(twoarray.size)# 元素个数\n",
    "print(twoarray.dtype)# 数据类型\n",
    "print(twoarray.ndim)# 数组维度"
   ],
   "id": "ac4be62ffc04e88d",
   "outputs": [
    {
     "name": "stdout",
     "output_type": "stream",
     "text": [
      "[[1 2]\n",
      " [3 4]\n",
      " [5 6]]\n",
      "--------------------\n",
      "(3, 2)\n",
      "6\n",
      "int64\n",
      "2\n"
     ]
    }
   ],
   "execution_count": 8
  },
  {
   "metadata": {
    "ExecuteTime": {
     "end_time": "2025-01-07T06:06:46.210081Z",
     "start_time": "2025-01-07T06:06:46.205328Z"
    }
   },
   "cell_type": "code",
   "source": [
    "#调整数组形状\n",
    "list=[1,2,3,4,5,6]\n",
    "a=np.array(list)\n",
    "print(a)\n",
    "print(a.shape)\n",
    "print('-'*20)\n",
    "a.shape=(3,2)# a改变\n",
    "print(a,a.shape)\n",
    "print('-'*20)\n",
    "b=a.reshape((2,3))# a不改变 将改变赋给b\n",
    "print(b,b.shape)\n",
    "print(a,a.shape)\n",
    "print('-'*20)\n",
    "c=b.reshape((6,))\n",
    "print(c,c.shape)"
   ],
   "id": "6e6891cef70c8ecb",
   "outputs": [
    {
     "name": "stdout",
     "output_type": "stream",
     "text": [
      "[1 2 3 4 5 6]\n",
      "(6,)\n",
      "--------------------\n",
      "[[1 2]\n",
      " [3 4]\n",
      " [5 6]] (3, 2)\n",
      "--------------------\n",
      "[[1 2 3]\n",
      " [4 5 6]] (2, 3)\n",
      "[[1 2]\n",
      " [3 4]\n",
      " [5 6]] (3, 2)\n",
      "--------------------\n",
      "[1 2 3 4 5 6] (6,)\n"
     ]
    }
   ],
   "execution_count": 19
  },
  {
   "metadata": {
    "ExecuteTime": {
     "end_time": "2025-01-07T06:04:19.323817Z",
     "start_time": "2025-01-07T06:04:19.320358Z"
    }
   },
   "cell_type": "code",
   "source": [
    "#将数组转成list\n",
    "a=np.array([1,2,3,4,5,6])\n",
    "print(type(a))\n",
    "list=a.tolist()\n",
    "print(list)\n",
    "print(type(list))"
   ],
   "id": "3df5df6292ea14e0",
   "outputs": [
    {
     "name": "stdout",
     "output_type": "stream",
     "text": [
      "<class 'numpy.ndarray'>\n",
      "[1, 2, 3, 4, 5, 6]\n",
      "<class 'list'>\n"
     ]
    }
   ],
   "execution_count": 18
  },
  {
   "metadata": {
    "ExecuteTime": {
     "end_time": "2025-01-07T14:50:03.493860Z",
     "start_time": "2025-01-07T14:50:03.489523Z"
    }
   },
   "cell_type": "code",
   "source": [
    "# 返回数组中每个元素的字节单位长度，dtype设置数据类型\n",
    "f = np.array([1,2,3,4,5], dtype = np.int16)\n",
    "print(f.itemsize) # 1 np.int8(一个字节)\n",
    "# 获取数据类型\n",
    "print(f.dtype)\n",
    "# 调整数据类型\n",
    "f1 = f.astype(np.int64)\n",
    "print(f1.dtype)\n",
    "# 拓展随机生成小数\n",
    "print(round(random.random(),2))#round()舍入，不传第二个参数时舍入到整数，传2保留两位小数\n",
    "arr = np.array([random.random() for i in range(10)])\n",
    "# 取小数点后两位\n",
    "print(np.round(arr,2))\n",
    "print(arr.dtype)\n",
    "arr1=np.astype(arr,np.float16)\n",
    "print(arr1.dtype)"
   ],
   "id": "ed423a858dac9d59",
   "outputs": [
    {
     "name": "stdout",
     "output_type": "stream",
     "text": [
      "2\n",
      "int16\n",
      "int64\n",
      "0.95\n",
      "[0.83 0.69 0.48 0.31 0.5  0.35 0.73 0.63 0.36 0.95]\n",
      "float64\n",
      "float16\n"
     ]
    }
   ],
   "execution_count": 28
  },
  {
   "metadata": {
    "ExecuteTime": {
     "end_time": "2025-01-07T14:57:00.534956Z",
     "start_time": "2025-01-07T14:57:00.524310Z"
    }
   },
   "cell_type": "code",
   "source": [
    "#数组和数的计算 广播机制\n",
    "a=np.arange(6).reshape(2,3)\n",
    "print(a)\n",
    "print(a+2)\n",
    "print(a*2)\n",
    "print(a/2)\n",
    "print(a**2)\n",
    "print('-'*20)\n",
    "b=a.tolist()\n",
    "print(b)\n",
    "print(b+2)#对一般python列表不可操作"
   ],
   "id": "2ceecb676782dc02",
   "outputs": [
    {
     "name": "stdout",
     "output_type": "stream",
     "text": [
      "[[0 1 2]\n",
      " [3 4 5]]\n",
      "[[2 3 4]\n",
      " [5 6 7]]\n",
      "[[ 0  2  4]\n",
      " [ 6  8 10]]\n",
      "[[0.  0.5 1. ]\n",
      " [1.5 2.  2.5]]\n",
      "[[ 0  1  4]\n",
      " [ 9 16 25]]\n",
      "--------------------\n",
      "[[0, 1, 2], [3, 4, 5]]\n"
     ]
    },
    {
     "ename": "TypeError",
     "evalue": "can only concatenate list (not \"int\") to list",
     "output_type": "error",
     "traceback": [
      "\u001B[1;31m---------------------------------------------------------------------------\u001B[0m",
      "\u001B[1;31mTypeError\u001B[0m                                 Traceback (most recent call last)",
      "Cell \u001B[1;32mIn[30], line 11\u001B[0m\n\u001B[0;32m      9\u001B[0m b\u001B[38;5;241m=\u001B[39ma\u001B[38;5;241m.\u001B[39mtolist()\n\u001B[0;32m     10\u001B[0m \u001B[38;5;28mprint\u001B[39m(b)\n\u001B[1;32m---> 11\u001B[0m \u001B[38;5;28mprint\u001B[39m(\u001B[43mb\u001B[49m\u001B[38;5;241;43m+\u001B[39;49m\u001B[38;5;241;43m2\u001B[39;49m)\n",
      "\u001B[1;31mTypeError\u001B[0m: can only concatenate list (not \"int\") to list"
     ]
    }
   ],
   "execution_count": 30
  },
  {
   "metadata": {
    "ExecuteTime": {
     "end_time": "2025-01-07T15:00:11.153471Z",
     "start_time": "2025-01-07T15:00:11.149633Z"
    }
   },
   "cell_type": "code",
   "source": [
    "#数组和数组的运算\n",
    "#形状相同,才可以进行加减乘除\n",
    "t1 = np.arange(6).reshape((3, 2))\n",
    "t2 = np.arange(100, 106).reshape((3, 2))\n",
    "print(t1)\n",
    "print(t2)\n",
    "print('-' * 50)\n",
    "print(t1 + t2)\n",
    "print('-' * 50)\n",
    "print(t1 * t2)  #不是矩阵乘法 只是逐项相乘"
   ],
   "id": "7ff530f0f7c6649d",
   "outputs": [
    {
     "name": "stdout",
     "output_type": "stream",
     "text": [
      "[[0 1]\n",
      " [2 3]\n",
      " [4 5]]\n",
      "[[100 101]\n",
      " [102 103]\n",
      " [104 105]]\n",
      "--------------------------------------------------\n",
      "[[100 102]\n",
      " [104 106]\n",
      " [108 110]]\n",
      "--------------------------------------------------\n",
      "[[  0 101]\n",
      " [204 309]\n",
      " [416 525]]\n"
     ]
    }
   ],
   "execution_count": 33
  },
  {
   "metadata": {
    "ExecuteTime": {
     "end_time": "2025-01-11T11:27:35.559422Z",
     "start_time": "2025-01-11T11:27:35.403720Z"
    }
   },
   "cell_type": "code",
   "source": [
    "#shape不同，不能进行运算\n",
    "t1 = np.arange(24).reshape((4, 6))\n",
    "t2 = np.arange(6).reshape((3, 2))\n",
    "print(t1)\n",
    "print(t2)\n",
    "print(t1 - t2)"
   ],
   "id": "112a5d9b560cf76e",
   "outputs": [
    {
     "ename": "NameError",
     "evalue": "name 'np' is not defined",
     "output_type": "error",
     "traceback": [
      "\u001B[1;31m---------------------------------------------------------------------------\u001B[0m",
      "\u001B[1;31mNameError\u001B[0m                                 Traceback (most recent call last)",
      "Cell \u001B[1;32mIn[1], line 2\u001B[0m\n\u001B[0;32m      1\u001B[0m \u001B[38;5;66;03m#shape不同，不能进行运算\u001B[39;00m\n\u001B[1;32m----> 2\u001B[0m t1 \u001B[38;5;241m=\u001B[39m \u001B[43mnp\u001B[49m\u001B[38;5;241m.\u001B[39marange(\u001B[38;5;241m24\u001B[39m)\u001B[38;5;241m.\u001B[39mreshape((\u001B[38;5;241m4\u001B[39m, \u001B[38;5;241m6\u001B[39m))\n\u001B[0;32m      3\u001B[0m t2 \u001B[38;5;241m=\u001B[39m np\u001B[38;5;241m.\u001B[39marange(\u001B[38;5;241m6\u001B[39m)\u001B[38;5;241m.\u001B[39mreshape((\u001B[38;5;241m3\u001B[39m, \u001B[38;5;241m2\u001B[39m))\n\u001B[0;32m      4\u001B[0m \u001B[38;5;28mprint\u001B[39m(t1)\n",
      "\u001B[1;31mNameError\u001B[0m: name 'np' is not defined"
     ]
    }
   ],
   "execution_count": 1
  },
  {
   "metadata": {
    "ExecuteTime": {
     "end_time": "2025-01-07T15:11:22.389124Z",
     "start_time": "2025-01-07T15:11:22.384860Z"
    }
   },
   "cell_type": "code",
   "source": [
    "#一维数组和二维数组进行运算时，一维的 元素个数 和 列数 相等\n",
    "t1 = np.arange(24).reshape((4, 6))\n",
    "t2 = np.arange(6).reshape((1, 6))\n",
    "print(t2.shape)\n",
    "print(t1)\n",
    "print('-'*10)\n",
    "print(t2)\n",
    "print('-'*20)\n",
    "print(t1 - t2) #逐行减 因此t1第一列均减0 第二列均减1 第三列均减2……"
   ],
   "id": "67a2ec9b4e036637",
   "outputs": [
    {
     "name": "stdout",
     "output_type": "stream",
     "text": [
      "(1, 6)\n",
      "[[ 0  1  2  3  4  5]\n",
      " [ 6  7  8  9 10 11]\n",
      " [12 13 14 15 16 17]\n",
      " [18 19 20 21 22 23]]\n",
      "----------\n",
      "[[0 1 2 3 4 5]]\n",
      "--------------------\n",
      "[[ 0  0  0  0  0  0]\n",
      " [ 6  6  6  6  6  6]\n",
      " [12 12 12 12 12 12]\n",
      " [18 18 18 18 18 18]]\n"
     ]
    }
   ],
   "execution_count": 37
  },
  {
   "metadata": {
    "ExecuteTime": {
     "end_time": "2025-01-07T15:12:44.456797Z",
     "start_time": "2025-01-07T15:12:44.452956Z"
    }
   },
   "cell_type": "code",
   "source": [
    "t1 = np.arange(24).reshape((4, 6))\n",
    "t2 = np.arange(4).reshape((4, 1))\n",
    "print(t2)\n",
    "print('-'*10)\n",
    "print(t1)\n",
    "print('-'*20)\n",
    "print(t1 - t2) #逐列减 因此第一行均减0，第二行均减1，第三行均减2……"
   ],
   "id": "a39cd8110cc94e22",
   "outputs": [
    {
     "name": "stdout",
     "output_type": "stream",
     "text": [
      "[[0]\n",
      " [1]\n",
      " [2]\n",
      " [3]]\n",
      "[[ 0  1  2  3  4  5]\n",
      " [ 6  7  8  9 10 11]\n",
      " [12 13 14 15 16 17]\n",
      " [18 19 20 21 22 23]]\n",
      "--------------------\n",
      "[[ 0  1  2  3  4  5]\n",
      " [ 5  6  7  8  9 10]\n",
      " [10 11 12 13 14 15]\n",
      " [15 16 17 18 19 20]]\n"
     ]
    }
   ],
   "execution_count": 38
  },
  {
   "metadata": {
    "ExecuteTime": {
     "end_time": "2025-01-07T15:15:40.104356Z",
     "start_time": "2025-01-07T15:15:40.100713Z"
    }
   },
   "cell_type": "code",
   "source": [
    "#随机3维数组\n",
    "a = np.arange(24).reshape((2, 3, 4))\n",
    "b = np.arange(12).reshape((1, 3, 4))\n",
    "print(a)\n",
    "print('-'*10)\n",
    "print(b)\n",
    "print('-'*20)\n",
    "print(a-b) #将维数相同的部分 整体拿来 在维数不同的那根轴上遍历做运算，其中一个ndarray在该轴上维数必须为1"
   ],
   "id": "1a271d7fd379a976",
   "outputs": [
    {
     "name": "stdout",
     "output_type": "stream",
     "text": [
      "[[[ 0  1  2  3]\n",
      "  [ 4  5  6  7]\n",
      "  [ 8  9 10 11]]\n",
      "\n",
      " [[12 13 14 15]\n",
      "  [16 17 18 19]\n",
      "  [20 21 22 23]]]\n",
      "----------\n",
      "[[[ 0  1  2  3]\n",
      "  [ 4  5  6  7]\n",
      "  [ 8  9 10 11]]]\n",
      "--------------------\n",
      "[[[ 0  0  0  0]\n",
      "  [ 0  0  0  0]\n",
      "  [ 0  0  0  0]]\n",
      "\n",
      " [[12 12 12 12]\n",
      "  [12 12 12 12]\n",
      "  [12 12 12 12]]]\n"
     ]
    }
   ],
   "execution_count": 40
  },
  {
   "metadata": {
    "ExecuteTime": {
     "end_time": "2025-01-08T08:29:34.657761Z",
     "start_time": "2025-01-08T08:29:34.319454Z"
    }
   },
   "cell_type": "code",
   "source": [
    "#练习轴\n",
    "import numpy as np\n",
    "\n",
    "a = np.array([[1, 2, 3], [4, 5, 6]])\n",
    "print(a)\n",
    "print(\"-\" * 20)\n",
    "print(np.sum(a, axis=0))  # [5 7 9]，按哪个轴求和，哪个轴没了\n",
    "print(\"-\" * 20)\n",
    "print(np.sum(a, axis=1))  # [ 6 15]\n",
    "print(\"-\" * 20)\n",
    "print(np.sum(a)) #全部相加\n",
    "print(\"-\" * 20)"
   ],
   "id": "ebd7b173b7585139",
   "outputs": [
    {
     "name": "stdout",
     "output_type": "stream",
     "text": [
      "[[1 2 3]\n",
      " [4 5 6]]\n",
      "--------------------\n",
      "[5 7 9]\n",
      "--------------------\n",
      "[ 6 15]\n",
      "--------------------\n",
      "21\n",
      "--------------------\n"
     ]
    }
   ],
   "execution_count": 1
  },
  {
   "metadata": {
    "ExecuteTime": {
     "end_time": "2025-01-08T08:31:53.332832Z",
     "start_time": "2025-01-08T08:31:53.329904Z"
    }
   },
   "cell_type": "code",
   "source": [
    "a = np.arange(24).reshape((2, 3, 4))\n",
    "b = np.sum(a, axis=0) \n",
    "print(\"-\" * 20)\n",
    "print(b.shape)#（3，4）\n",
    "c = np.sum(a, axis=1)\n",
    "print(\"-\" * 20)\n",
    "print(c.shape)#（2，4）\n",
    "d = np.sum(a, axis=2)\n",
    "print(\"-\" * 20)\n",
    "print(d.shape)#（2，3）"
   ],
   "id": "f02acfec5351b4cc",
   "outputs": [
    {
     "name": "stdout",
     "output_type": "stream",
     "text": [
      "--------------------\n",
      "(3, 4)\n",
      "--------------------\n",
      "(2, 4)\n",
      "--------------------\n",
      "(2, 3)\n"
     ]
    }
   ],
   "execution_count": 2
  },
  {
   "metadata": {
    "ExecuteTime": {
     "end_time": "2025-01-08T08:35:18.539403Z",
     "start_time": "2025-01-08T08:35:18.535692Z"
    }
   },
   "cell_type": "code",
   "source": [
    "#切片和索引\n",
    "a = np.arange(10)\n",
    "# 冒号分隔切片参数 start:stop:step 来进行切片操作print(a[2:7:2])# 从索引 2 开始到索引 7 停止，间隔为 2\n",
    "print(a[2:7:2])\n",
    "# 如果只放置一个参数，如 [2]，将返回与该索引相对应的单个元素\n",
    "print(a[0], a)\n",
    "\n",
    "# 如果为 [2:]，表示从该索引开始以后的所有项都将被提取\n",
    "print(a[2:])\n",
    "\n",
    "print(a[2:8:2])  #切片是左闭右开 8打印不出来"
   ],
   "id": "3e86aa2ac5d0b3ca",
   "outputs": [
    {
     "name": "stdout",
     "output_type": "stream",
     "text": [
      "[2 4 6]\n",
      "0 [0 1 2 3 4 5 6 7 8 9]\n",
      "[2 3 4 5 6 7 8 9]\n",
      "[2 4 6]\n"
     ]
    }
   ],
   "execution_count": 3
  },
  {
   "metadata": {
    "ExecuteTime": {
     "end_time": "2025-01-08T08:47:45.316030Z",
     "start_time": "2025-01-08T08:47:45.311801Z"
    }
   },
   "cell_type": "code",
   "source": [
    "#按行取\n",
    "t1 = np.arange(24).reshape(4, 6)\n",
    "print(t1[0:2, 3])\n",
    "print(t1)\n",
    "print('*' * 20)\n",
    "print(t1[1])  # 取一行(一行代表是一条数据，索引也是从0开始的) print(t1[1,:]) # 取一行\n",
    "print(t1[2,:])\n",
    "print('*' * 20)\n",
    "print(t1[1:])  # 取连续的多行\n",
    "print('*' * 20)\n",
    "print(t1[1:3, :])  # 取连续的多行 左闭右开 取出行1、2\n",
    "print('*' * 20)\n",
    "print(t1[[0, 2, 3]])  # 取不连续的多行 两层括号\n",
    "print('*' * 20)\n",
    "print(t1[0,2]) # 取0行2列的元素\n",
    "print('*' * 20)\n",
    "print(t1[0:2, 3]) #取出0行和1行的列3的元素 即[3,9]"
   ],
   "id": "318fe1de441ffc9d",
   "outputs": [
    {
     "name": "stdout",
     "output_type": "stream",
     "text": [
      "[3 9]\n",
      "[[ 0  1  2  3  4  5]\n",
      " [ 6  7  8  9 10 11]\n",
      " [12 13 14 15 16 17]\n",
      " [18 19 20 21 22 23]]\n",
      "********************\n",
      "[ 6  7  8  9 10 11]\n",
      "[12 13 14 15 16 17]\n",
      "********************\n",
      "[[ 6  7  8  9 10 11]\n",
      " [12 13 14 15 16 17]\n",
      " [18 19 20 21 22 23]]\n",
      "********************\n",
      "[[ 6  7  8  9 10 11]\n",
      " [12 13 14 15 16 17]]\n",
      "********************\n",
      "[[ 0  1  2  3  4  5]\n",
      " [12 13 14 15 16 17]\n",
      " [18 19 20 21 22 23]]\n",
      "********************\n",
      "2\n",
      "********************\n",
      "[3 9]\n"
     ]
    }
   ],
   "execution_count": 7
  },
  {
   "metadata": {
    "ExecuteTime": {
     "end_time": "2025-01-08T08:51:53.559324Z",
     "start_time": "2025-01-08T08:51:53.550095Z"
    }
   },
   "cell_type": "code",
   "source": [
    "#列表的情况\n",
    "t2 = np.arange(24).reshape(4, 6).tolist()\n",
    "t2[[0, 2, 3]]"
   ],
   "id": "fd87490e2f2e7e3b",
   "outputs": [
    {
     "ename": "TypeError",
     "evalue": "list indices must be integers or slices, not list",
     "output_type": "error",
     "traceback": [
      "\u001B[1;31m---------------------------------------------------------------------------\u001B[0m",
      "\u001B[1;31mTypeError\u001B[0m                                 Traceback (most recent call last)",
      "Cell \u001B[1;32mIn[15], line 3\u001B[0m\n\u001B[0;32m      1\u001B[0m \u001B[38;5;66;03m#列表不可操作\u001B[39;00m\n\u001B[0;32m      2\u001B[0m t2 \u001B[38;5;241m=\u001B[39m np\u001B[38;5;241m.\u001B[39marange(\u001B[38;5;241m24\u001B[39m)\u001B[38;5;241m.\u001B[39mreshape(\u001B[38;5;241m4\u001B[39m, \u001B[38;5;241m6\u001B[39m)\u001B[38;5;241m.\u001B[39mtolist()\n\u001B[1;32m----> 3\u001B[0m \u001B[43mt2\u001B[49m\u001B[43m[\u001B[49m\u001B[43m[\u001B[49m\u001B[38;5;241;43m0\u001B[39;49m\u001B[43m,\u001B[49m\u001B[43m \u001B[49m\u001B[38;5;241;43m2\u001B[39;49m\u001B[43m,\u001B[49m\u001B[43m \u001B[49m\u001B[38;5;241;43m3\u001B[39;49m\u001B[43m]\u001B[49m\u001B[43m]\u001B[49m\n",
      "\u001B[1;31mTypeError\u001B[0m: list indices must be integers or slices, not list"
     ]
    }
   ],
   "execution_count": 15
  },
  {
   "metadata": {
    "ExecuteTime": {
     "end_time": "2025-01-08T08:55:41.019759Z",
     "start_time": "2025-01-08T08:55:41.014876Z"
    }
   },
   "cell_type": "code",
   "source": [
    "#按列取\n",
    "print(t1)\n",
    "print('*'*20)\n",
    "print(t1[:, 1])  # 取一列\n",
    "print('*' * 20)\n",
    "print(t1[:, 1:])  # 连续的多列\n",
    "print('*' * 20)\n",
    "print(t1[:, [0, 2, 3]])  # 取不连续的多列\n",
    "print('*' * 20)\n",
    "print(t1[2, 3])  # # 取某一个值,三行四列  py是t1[2][3]\n",
    "print('*' * 20)\n",
    "print(t1[[0, 1, 1], [0, 1, 3]])  # 取多个不连续的值，[[行，行。。。],[列，列。。。]]\n",
    "print('*'*20)\n",
    "print(t1[1:3, 1:4])  #取1-3行，1-4列"
   ],
   "id": "cfa53d73e244d38e",
   "outputs": [
    {
     "name": "stdout",
     "output_type": "stream",
     "text": [
      "[[ 0  1  2  3  4  5]\n",
      " [ 6  7  8  9 10 11]\n",
      " [12 13 14 15 16 17]\n",
      " [18 19 20 21 22 23]]\n",
      "********************\n",
      "[ 1  7 13 19]\n",
      "********************\n",
      "[[ 1  2  3  4  5]\n",
      " [ 7  8  9 10 11]\n",
      " [13 14 15 16 17]\n",
      " [19 20 21 22 23]]\n",
      "********************\n",
      "[[ 0  2  3]\n",
      " [ 6  8  9]\n",
      " [12 14 15]\n",
      " [18 20 21]]\n",
      "********************\n",
      "15\n",
      "********************\n",
      "[0 7 9]\n",
      "********************\n",
      "[[ 7  8  9]\n",
      " [13 14 15]]\n"
     ]
    }
   ],
   "execution_count": 19
  },
  {
   "metadata": {
    "ExecuteTime": {
     "end_time": "2025-01-08T09:06:27.930523Z",
     "start_time": "2025-01-08T09:06:27.926156Z"
    }
   },
   "cell_type": "code",
   "source": [
    "#修改值\n",
    "t = np.arange(24).reshape(4, 6)\n",
    "print(t)\n",
    "print(id(t))\n",
    "print('-' * 50)\n",
    "# # 修改某一行的值\n",
    "# t[1,:]=0\n",
    "#\n",
    "# # 修改某一列的值\n",
    "# t[:,1]=0\n",
    "#\n",
    "# # 修改连续多行\n",
    "# t[1:3,:]=0 #左闭右开\n",
    "#\n",
    "# # 修改连续多列\n",
    "# t[:,1:4]=0\n",
    "#\n",
    "# # 修改多行多列，取第二行到第四行，第三列到第五列\n",
    "# t[1:3,2:5]=0\n",
    "#\n",
    "# # 修改多个不相邻的点\n",
    "# t[[0,1],[1,3]]=0\n",
    "\n",
    "# 可以根据条件修改，比如讲小于10的值改掉\n",
    "# t[t<10]=0\n",
    "\n",
    "# 使用逻辑判断\n",
    "# np.logical_and\t& \n",
    "# np.logical_or\t    |\n",
    "# np.logical_not\t~\n",
    "# t[(t>2)&(t<6)]=0\t# 逻辑与，and\n",
    "# t[(t<2)|(t>6)]=0\t# 逻辑或，or\n",
    "# t[~(t>6)]=0\t# 逻辑非\n",
    "# print(t)\n",
    "t = t.clip(10, 18) # 限制值范围 将小于10的改为10，大于18的改为18\n",
    "print(id(t))\n",
    "t"
   ],
   "id": "b2988acfc635346a",
   "outputs": [
    {
     "name": "stdout",
     "output_type": "stream",
     "text": [
      "[[ 0  1  2  3  4  5]\n",
      " [ 6  7  8  9 10 11]\n",
      " [12 13 14 15 16 17]\n",
      " [18 19 20 21 22 23]]\n",
      "2850581106960\n",
      "--------------------------------------------------\n",
      "2850581325712\n"
     ]
    },
    {
     "data": {
      "text/plain": [
       "array([[10, 10, 10, 10, 10, 10],\n",
       "       [10, 10, 10, 10, 10, 11],\n",
       "       [12, 13, 14, 15, 16, 17],\n",
       "       [18, 18, 18, 18, 18, 18]])"
      ]
     },
     "execution_count": 31,
     "metadata": {},
     "output_type": "execute_result"
    }
   ],
   "execution_count": 31
  },
  {
   "metadata": {
    "ExecuteTime": {
     "end_time": "2025-01-08T09:41:52.779503Z",
     "start_time": "2025-01-08T09:41:52.776224Z"
    }
   },
   "cell_type": "code",
   "source": [
    "#判断条件\n",
    "t = np.arange(24).reshape(4, 6)\n",
    "print(t < 10) # 得到一个布尔型数组，元素为True或False"
   ],
   "id": "d599a07c4aa668d8",
   "outputs": [
    {
     "name": "stdout",
     "output_type": "stream",
     "text": [
      "[[ True  True  True  True  True  True]\n",
      " [ True  True  True  True False False]\n",
      " [False False False False False False]\n",
      " [False False False False False False]]\n"
     ]
    }
   ],
   "execution_count": 33
  },
  {
   "metadata": {
    "ExecuteTime": {
     "end_time": "2025-01-08T10:01:03.794602Z",
     "start_time": "2025-01-08T10:01:03.790670Z"
    }
   },
   "cell_type": "code",
   "source": [
    "#python的三目运算\n",
    "a = 10\n",
    "b = 15\n",
    "c = a if a > b else b\n",
    "c"
   ],
   "id": "39a4b6160b752828",
   "outputs": [
    {
     "data": {
      "text/plain": [
       "15"
      ]
     },
     "execution_count": 34,
     "metadata": {},
     "output_type": "execute_result"
    }
   ],
   "execution_count": 34
  },
  {
   "metadata": {
    "ExecuteTime": {
     "end_time": "2025-01-08T10:01:39.897761Z",
     "start_time": "2025-01-08T10:01:39.894559Z"
    }
   },
   "cell_type": "code",
   "source": [
    "# # 三目运算（ np.where(condition, x, y)满足条件(condition)，输出x，不满足输出y。)）\n",
    "score = np.array([[80, 88], [82, 81], [75, 81]])\n",
    "print(score)\n",
    "result = np.where(score < 80, True, False)  #类似于if else\n",
    "print(result)"
   ],
   "id": "3a5d918c024a580d",
   "outputs": [
    {
     "name": "stdout",
     "output_type": "stream",
     "text": [
      "[[80 88]\n",
      " [82 81]\n",
      " [75 81]]\n",
      "[[False False]\n",
      " [False False]\n",
      " [ True False]]\n"
     ]
    }
   ],
   "execution_count": 35
  },
  {
   "metadata": {
    "ExecuteTime": {
     "end_time": "2025-01-08T10:06:53.886393Z",
     "start_time": "2025-01-08T10:06:53.882307Z"
    }
   },
   "cell_type": "code",
   "source": [
    "score[result] = 100 #将score中对应result为True的元素改为100\n",
    "score  "
   ],
   "id": "59efe7cafc66edc1",
   "outputs": [
    {
     "data": {
      "text/plain": [
       "array([[ 80,  88],\n",
       "       [ 82,  81],\n",
       "       [100,  81]])"
      ]
     },
     "execution_count": 36,
     "metadata": {},
     "output_type": "execute_result"
    }
   ],
   "execution_count": 36
  },
  {
   "metadata": {
    "ExecuteTime": {
     "end_time": "2025-01-08T12:09:03.825300Z",
     "start_time": "2025-01-08T12:09:03.821725Z"
    }
   },
   "cell_type": "code",
   "source": [
    "#数据的添加、删除与去重\n",
    "# 1. numpy.append 函数在数组的末尾添加值。 追加操作会分配整个数组，并把原来的数组复制到新数组中。\n",
    "# 此外，输入数组的维度必须匹配否则将生成ValueError。\n",
    "'''\n",
    "参 数 说 明 ：        \n",
    "arr： 输 入 数 组 \n",
    "values：要向arr添加的值，需要和arr形状相同（除了要添加的轴）                                                            \n",
    "axis：默认为 None。当axis无定义时，是横向加成，返回总是为一维数组！当axis有定义的时候，分别为0和1的时候。\n",
    "当axis有定义的时候，分别为0和1的时候（列数要相同）。当axis为1时，数组是加在右边（行数要相同）。\n",
    "'''\n",
    "import numpy as np\n",
    "\n",
    "a = np.array([[1, 2, 3], [4, 5, 6]])\n",
    "\n",
    "print('第一个数组：')\n",
    "print(a)\n",
    "print('\\n')\n",
    "\n",
    "print(' 向 数 组 添 加 元 素 ：')\n",
    "print(np.append(a, [7, 8, 9]))  #ndarray会被展平\n",
    "print('-'*20)\n",
    "b=np.append(a, [7, 8, 9]).reshape(3,3) #同样会被展平，但可以通过reshape恢复原来的维度\n",
    "print(b) \n",
    "print('-'*20)\n",
    "print(a)\n",
    "print('-' * 50)"
   ],
   "id": "ad83caf83fc061be",
   "outputs": [
    {
     "name": "stdout",
     "output_type": "stream",
     "text": [
      "第一个数组：\n",
      "[[1 2 3]\n",
      " [4 5 6]]\n",
      "\n",
      "\n",
      " 向 数 组 添 加 元 素 ：\n",
      "[1 2 3 4 5 6 7 8 9]\n",
      "--------------------\n",
      "[[1 2 3]\n",
      " [4 5 6]\n",
      " [7 8 9]]\n",
      "--------------------\n",
      "[[1 2 3]\n",
      " [4 5 6]]\n",
      "--------------------------------------------------\n"
     ]
    }
   ],
   "execution_count": 40
  },
  {
   "metadata": {
    "ExecuteTime": {
     "end_time": "2025-01-08T12:11:04.240798Z",
     "start_time": "2025-01-08T12:11:04.236726Z"
    }
   },
   "cell_type": "code",
   "source": [
    "b = np.array([[7, 8, 9]])#虽然只有一行，但维度为2\n",
    "print(b.ndim)\n",
    "print(b)"
   ],
   "id": "da52f60ba824d723",
   "outputs": [
    {
     "name": "stdout",
     "output_type": "stream",
     "text": [
      "2\n",
      "[[7 8 9]]\n"
     ]
    }
   ],
   "execution_count": 41
  },
  {
   "metadata": {
    "ExecuteTime": {
     "end_time": "2025-01-08T12:15:44.835677Z",
     "start_time": "2025-01-08T12:15:44.831879Z"
    }
   },
   "cell_type": "code",
   "source": [
    "# 添加 append\n",
    "a = np.array([[1, 2, 3], [4, 5, 6]])\n",
    "print('沿轴 0 添加元素：')  #往哪个轴添加，那个轴size就变大\n",
    "print(np.append(a, [[7, 8, 9]], axis=0))\n",
    "print('\\n')\n",
    "print(a)\n",
    "print('沿轴 1 添加元素：')\n",
    "print(np.append(a, [[5, 5, 5], [7, 8, 9]], axis=1))\n",
    "print(a)"
   ],
   "id": "b1df8c42cabdb7ac",
   "outputs": [
    {
     "name": "stdout",
     "output_type": "stream",
     "text": [
      "沿轴 0 添加元素：\n",
      "[[1 2 3]\n",
      " [4 5 6]\n",
      " [7 8 9]]\n",
      "\n",
      "\n",
      "[[1 2 3]\n",
      " [4 5 6]]\n",
      "沿轴 1 添加元素：\n",
      "[[1 2 3 5 5 5]\n",
      " [4 5 6 7 8 9]]\n",
      "[[1 2 3]\n",
      " [4 5 6]]\n"
     ]
    }
   ],
   "execution_count": 43
  },
  {
   "metadata": {
    "ExecuteTime": {
     "end_time": "2025-01-08T12:28:54.373275Z",
     "start_time": "2025-01-08T12:28:54.368243Z"
    }
   },
   "cell_type": "code",
   "source": [
    "# 2. numpy.insert\n",
    "# 函数在给定索引之前，沿给定轴在输入数组中插入值。# 如果值的类型转换为要插入，则它与输入数组不同。\n",
    "# 插入没有原地的，函数会返回一个新数组。 此外，如果未提供轴，则输入数组会被展开。\n",
    "\n",
    "a = np.array([[1, 2], [3, 4], [5, 6]])\n",
    "\n",
    "print('第一个数组：')\n",
    "print(a)\n",
    "print('-' * 50)\n",
    "print('未传递 Axis 参数。 在插入之前输入数组会被展开。')\n",
    "print(np.insert(a, 1, [11, 22]))\n",
    "print('-' * 50)\n",
    "print('传递了 Axis 参数。 会广播值数组来配输入数组。')\n",
    "print(np.insert(a, 1, [11, 12], axis=0))  #那个轴插入，哪个轴size变大 插在0轴的行1\n",
    "print('-' * 50)\n",
    "print('沿轴  0 广播：') #按行插入，行数变大 插在0轴的行1 且行1的元素填满11\n",
    "print(np.insert(a, 1, 11, axis=0))\n",
    "print('-' * 50)\n",
    "print('沿轴  1 广播：') #按列插入，列数变大 插在1轴的列1\n",
    "print(np.insert(a, 1, [1, 2, 5], axis=1))"
   ],
   "id": "27ddf026d3bbdac4",
   "outputs": [
    {
     "name": "stdout",
     "output_type": "stream",
     "text": [
      "第一个数组：\n",
      "[[1 2]\n",
      " [3 4]\n",
      " [5 6]]\n",
      "--------------------------------------------------\n",
      "未传递 Axis 参数。 在插入之前输入数组会被展开。\n",
      "[ 1 11 22  2  3  4  5  6]\n",
      "--------------------------------------------------\n",
      "传递了 Axis 参数。 会广播值数组来配输入数组。\n",
      "[[ 1  2]\n",
      " [11 12]\n",
      " [ 3  4]\n",
      " [ 5  6]]\n",
      "--------------------------------------------------\n",
      "沿轴  0 广播：\n",
      "[[ 1  2]\n",
      " [11 11]\n",
      " [ 3  4]\n",
      " [ 5  6]]\n",
      "--------------------------------------------------\n",
      "沿轴  1 广播：\n",
      "[[1 1 2]\n",
      " [3 2 4]\n",
      " [5 5 6]]\n"
     ]
    }
   ],
   "execution_count": 46
  },
  {
   "metadata": {
    "ExecuteTime": {
     "end_time": "2025-01-08T12:32:41.253019Z",
     "start_time": "2025-01-08T12:32:41.248486Z"
    }
   },
   "cell_type": "code",
   "source": [
    "#numpy.delete 函数返回从输入数组中删除指定子数组的新数组。 与 insert() 函数的情况一样，\n",
    "# 如果未提供轴参数， 则输入数组将展开。\n",
    "'''\n",
    "参 数 说 明 ： arr： 输 入 数 组\n",
    "obj：可以被切片，整数或者整数数组，表明要从输入数组删除的子数组axis：\n",
    "沿着它删除给定子数组的轴，如果未提供，则输入数组会被展开'''\n",
    "import numpy as np\n",
    "\n",
    "a = np.arange(12).reshape(3, 4)\n",
    "\n",
    "print('第一个数组：')\n",
    "print(a)\n",
    "print('\\n')\n",
    "\n",
    "print('未传递 Axis 参数。 在删除之前输入数组会被展开。')\n",
    "print(np.delete(a, 5))\n",
    "print('\\n')\n",
    "print(a)\n",
    "print('删除第一行：')\n",
    "print(np.delete(a, 1, axis=0))\n",
    "print('\\n')\n",
    "\n",
    "print('删除第一列：')\n",
    "print(np.delete(a, 1, axis=1))"
   ],
   "id": "94cd135382b776d4",
   "outputs": [
    {
     "name": "stdout",
     "output_type": "stream",
     "text": [
      "第一个数组：\n",
      "[[ 0  1  2  3]\n",
      " [ 4  5  6  7]\n",
      " [ 8  9 10 11]]\n",
      "\n",
      "\n",
      "未传递 Axis 参数。 在删除之前输入数组会被展开。\n",
      "[ 0  1  2  3  4  6  7  8  9 10 11]\n",
      "\n",
      "\n",
      "[[ 0  1  2  3]\n",
      " [ 4  5  6  7]\n",
      " [ 8  9 10 11]]\n",
      "删除第一行：\n",
      "[[ 0  1  2  3]\n",
      " [ 8  9 10 11]]\n",
      "\n",
      "\n",
      "删除第一列：\n",
      "[[ 0  2  3]\n",
      " [ 4  6  7]\n",
      " [ 8 10 11]]\n"
     ]
    }
   ],
   "execution_count": 47
  },
  {
   "metadata": {
    "ExecuteTime": {
     "end_time": "2025-01-08T13:50:22.105190Z",
     "start_time": "2025-01-08T13:50:22.101076Z"
    }
   },
   "cell_type": "code",
   "source": [
    "# numpy.unique 函数用于去除数组中的重复元素。\n",
    "'''\n",
    "arr：输入数组，如果不是一维数组则会展平\n",
    "return_index：如果为true，返回新列表元素在旧列表中的位置（下标），并以列表形式储\n",
    "return_inverse：如果为true，返回旧列表元素在新列表中的位置（下标），并以列表形式储\n",
    "return_counts：如果为true，返回去重数组中的元素在原数组中的出现次数\n",
    "'''\n",
    "import numpy as np\n",
    "\n",
    "a = np.array([5, 2, 6, 2, 7, 5, 6, 9, 8, 2])\n",
    "\n",
    "print('第一个数组：')\n",
    "print(a)\n",
    "print('\\n')\n",
    "\n",
    "#去除重复元素，输出的是有序序列\n",
    "# print ('第一个数组的去重值：')\n",
    "# u = np.unique(a)\n",
    "# print (u)\n",
    "# print ('\\n')\n",
    "\n",
    "# print ('去重数组的索引数组：')\n",
    "# u,indices = np.unique(a, return_index = True)\n",
    "# print(u) #去重后的数组\n",
    "# print (indices) #留下的每个元素在原数组中的下标\n",
    "# print ('\\n')\n",
    "\n",
    "# print ('我们可以看到每个和原数组下标对应的数值：')\n",
    "# print ('去重数组的下标：')\n",
    "# u,indices = np.unique(a,return_inverse = True)\n",
    "# print (u) #去重后的数组\n",
    "# print (indices) #原数组中每个元素在去重后的数组中的下标\n",
    "\n",
    "# print('返回去重元素的重复数量：')\n",
    "u, indices = np.unique(a, return_counts=True)\n",
    "print(u) #去重后的数组\n",
    "print(indices) #去重后的数组中每个元素在原数组中的出现次数"
   ],
   "id": "3039278858423c8b",
   "outputs": [
    {
     "name": "stdout",
     "output_type": "stream",
     "text": [
      "第一个数组：\n",
      "[5 2 6 2 7 5 6 9 8 2]\n",
      "\n",
      "\n",
      "[2 5 6 7 8 9]\n",
      "[3 2 2 1 1 1]\n"
     ]
    }
   ],
   "execution_count": 54
  },
  {
   "metadata": {},
   "cell_type": "markdown",
   "source": "",
   "id": "b14536a681cb3af9"
  },
  {
   "metadata": {},
   "cell_type": "markdown",
   "source": "# numpy中的数学计算",
   "id": "ab12a933f9273071"
  },
  {
   "metadata": {
    "ExecuteTime": {
     "end_time": "2025-01-08T14:26:16.755921Z",
     "start_time": "2025-01-08T14:26:16.750740Z"
    }
   },
   "cell_type": "code",
   "source": [
    "import numpy as np\n",
    "\n",
    "score = np.array([[80, 88], [82, 81], [75, 81]])\n",
    "print(score)\n",
    "print('-'*20)\n",
    "# 1. 获取所有数据最大值\n",
    "result = np.max(score)\n",
    "print(result)\n",
    "print('-'*20)\n",
    "# 2. 获取某一个轴上的数据最大值，对应的轴就消失\n",
    "result = np.max(score, axis=1) # 求每一行的最大值，返回一维数组 轴1方向上的一个样本即是一行 沿轴1方向求每个样本的最大值 即求每一行的最大值\n",
    "print(result)\n",
    "print('-'*20)\n",
    "# 3. 获取最小值\n",
    "result = np.min(score)\n",
    "print(result)\n",
    "print('-'*20)\n",
    "# 4. 获取某一个轴上的数据最小值\n",
    "result = np.min(score, axis=0)\n",
    "print(result)\n",
    "print('-'*20)\n",
    "# 5. 数据的比较\n",
    "result = np.maximum([-2, -1, 0, 1, 2], 0)  # 第一个参数中的每一个数与第二个参数比较返回大的\n",
    "print(result)\n",
    "print('-'*20)\n",
    "result = np.minimum([-2, -1, 0, 1, 2], 0)  # 第一个参数中的每一个数与第二个参数比较返回小的\n",
    "print(result)\n",
    "print('-'*20)\n",
    "# 接受的两个参数，也可以大小一致;第二个参数只是一个单独的值时，其实是用到了维度的广播机制\n",
    "result = np.maximum([-2, -1, 4, 1, 2], [1, 2, 3, 4, 5])\n",
    "print(result)"
   ],
   "id": "63e6a557608d56a8",
   "outputs": [
    {
     "name": "stdout",
     "output_type": "stream",
     "text": [
      "[[80 88]\n",
      " [82 81]\n",
      " [75 81]]\n",
      "--------------------\n",
      "88\n",
      "--------------------\n",
      "[88 82 81]\n",
      "--------------------\n",
      "75\n",
      "--------------------\n",
      "[75 81]\n",
      "--------------------\n",
      "[0 0 0 1 2]\n",
      "--------------------\n",
      "[-2 -1  0  0  0]\n",
      "--------------------\n",
      "[1 2 4 4 5]\n"
     ]
    }
   ],
   "execution_count": 58
  },
  {
   "metadata": {},
   "cell_type": "code",
   "outputs": [],
   "execution_count": null,
   "source": [
    "'''\n",
    "通用函数：\n",
    "numpy.sqrt(array)\t平方根函数\n",
    "numpy.exp(array)\te^array[i]的数组\n",
    "numpy.abs/fabs(array)\t计算绝对值\n",
    "numpy.square(array)\t计算各元素的平方 等于array\t2\n",
    "numpy.log/log10/log2(array)\t计算各元素的各种对数\n",
    "numpy.sign(array)\t计算各元素正负号\n",
    "numpy.isnan(array)\t计算各元素是否为NaN\n",
    "numpy.isinf(array)\t计算各元素是否为NaN\n",
    "numpy.cos/cosh/sin/sinh/tan/tanh(array) 三角函数\n",
    "numpy.modf(array)\t将array中值得整数和小数分离，作两个数组返回\n",
    "numpy.ceil(array)\t向上取整,也就是取比这个数大的整数\n",
    "numpy.floor(array)\t向下取整,也就是取比这个数小的整数\n",
    "numpy.rint(array)\t四舍五入\n",
    "numpy.trunc(array)\t向0取整\n",
    "numpy.cos(array)\t正弦值\n",
    "numpy.sin(array)\t余弦值\n",
    "numpy.tan(array)\t正切值\n",
    "\n",
    "numpy.add(array1,array2)\t元素级加法\n",
    "numpy.subtract(array1,array2)\t元素级减法\n",
    "numpy.multiply(array1,array2)\t元素级乘法\n",
    "numpy.divide(array1,array2)\t元素级除法 array1./array2\n",
    "numpy.power(array1,array2)\t元素级指数 array1.^array2\n",
    "numpy.maximum/minimum(array1,aray2) 元素级最大值\n",
    "numpy.fmax/fmin(array1,array2)\t元素级最大值，忽略NaN\n",
    "numpy.mod(array1,array2)\t元素级求模\n",
    "numpy.copysign(array1,array2)\t将第二个数组中值得符号复制给第一个数组中值\n",
    "numpy.greater/greater_equal/less/less_equal/equal/not_equal (array1,array2)\n",
    "元素级比较运算，产生布尔数组\n",
    "numpy.logical_end/logical_or/logic_xor(array1,array2)元素级的真值逻辑运算\n",
    "'''"
   ],
   "id": "160bf2558be7ce7b"
  }
 ],
 "metadata": {
  "kernelspec": {
   "display_name": "Python 3",
   "language": "python",
   "name": "python3"
  },
  "language_info": {
   "codemirror_mode": {
    "name": "ipython",
    "version": 2
   },
   "file_extension": ".py",
   "mimetype": "text/x-python",
   "name": "python",
   "nbconvert_exporter": "python",
   "pygments_lexer": "ipython2",
   "version": "2.7.6"
  }
 },
 "nbformat": 4,
 "nbformat_minor": 5
}
