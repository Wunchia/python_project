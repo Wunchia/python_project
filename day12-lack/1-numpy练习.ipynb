{
 "cells": [
  {
   "metadata": {},
   "cell_type": "markdown",
   "source": "# 基础练习",
   "id": "5f81f99e68e92d31"
  },
  {
   "metadata": {},
   "cell_type": "code",
   "outputs": [],
   "execution_count": null,
   "source": [
    "# 1/创建数组:\n",
    "# 创建一个包含10个元素的一维数组，元素值从0到9。\n",
    "# 创建一个5x5的二维数组，所有元素都为1。\n",
    "# 创建一个随机填充的3x4的二维数组。"
   ],
   "id": "c3163ddf3e18eb0c"
  },
  {
   "metadata": {},
   "cell_type": "code",
   "outputs": [],
   "execution_count": null,
   "source": [
    "# 2/索引和切片:\n",
    "# 从一个数组中提取出前5个元素。\n",
    "# 从一个二维数组中提取出第二行。\n",
    "# 从一个二维数组中提取出左上角的2x2子矩阵。"
   ],
   "id": "50862a1139a2b9f5"
  },
  {
   "metadata": {},
   "cell_type": "code",
   "outputs": [],
   "execution_count": null,
   "source": [
    "# 3/数组运算:\n",
    "# 计算两个数组的元素对应相加、相减、相乘。\n",
    "# 计算一个数组的平均值、方差和标准差。\n",
    "# 对一个数组进行元素级别的指数运算。"
   ],
   "id": "e751079c10b47ae5"
  },
  {
   "metadata": {},
   "cell_type": "code",
   "outputs": [],
   "execution_count": null,
   "source": [
    "# 4/数组变形:\n",
    "# 将一个一维数组 reshape 成一个二维数组。\n",
    "# 将一个二维数组展平为一维数组。"
   ],
   "id": "6dd35b645edbbea9"
  },
  {
   "metadata": {},
   "cell_type": "markdown",
   "source": "# 进阶练习",
   "id": "2d86dd65820127d0"
  },
  {
   "metadata": {},
   "cell_type": "code",
   "outputs": [],
   "execution_count": null,
   "source": [
    "# 5/数组的统计:\n",
    "# 找到一个数组中的最大值和最小值。\n",
    "# 计算一个数组中非零元素的个数。\n",
    "# 计算一个数组中每个元素出现的次数。"
   ],
   "id": "2b3d105dd383fb19"
  },
  {
   "metadata": {},
   "cell_type": "code",
   "outputs": [],
   "execution_count": null,
   "source": [
    "# 6/数组的排序:\n",
    "# 对一个数组进行升序排序。\n",
    "# 对一个二维数组的每一行进行排序。"
   ],
   "id": "4d3fe1375b32c6d4"
  },
  {
   "metadata": {},
   "cell_type": "code",
   "outputs": [],
   "execution_count": null,
   "source": [
    "# 7/数组的筛选:\n",
    "# 从一个数组中筛选出大于某个值的元素。\n",
    "# 从一个二维数组中筛选出满足条件的行。"
   ],
   "id": "1bbd30d9b215876a"
  },
  {
   "metadata": {},
   "cell_type": "code",
   "outputs": [],
   "execution_count": null,
   "source": [
    "# 8/矩阵运算:\n",
    "# 计算两个矩阵的乘积。\n",
    "# 计算一个矩阵的转置。\n",
    "# 计算一个矩阵的逆矩阵。"
   ],
   "id": "e4c61102edaa9b2e"
  },
  {
   "metadata": {},
   "cell_type": "code",
   "outputs": [],
   "execution_count": null,
   "source": [
    "# 9/广播机制:\n",
    "# 对一个数组和一个标量进行运算。\n",
    "# 对两个形状不同的数组进行运算。"
   ],
   "id": "c8cfc7c146913722"
  },
  {
   "metadata": {},
   "cell_type": "code",
   "outputs": [],
   "execution_count": null,
   "source": [
    "# 10/线性代数:\n",
    "# 求解线性方程组。\n",
    "# 计算矩阵的特征值和特征向量。"
   ],
   "id": "4ac5dad57b445504"
  },
  {
   "metadata": {},
   "cell_type": "markdown",
   "source": "# 实际应用",
   "id": "fde1672ffefa9178"
  },
  {
   "metadata": {},
   "cell_type": "code",
   "outputs": [],
   "execution_count": null,
   "source": [
    "# 11/图像处理:\n",
    "# 读取一张图片，将其转换为NumPy数组。\n",
    "# 对图像进行灰度化处理。\n",
    "# 对图像进行旋转、缩放等操作。"
   ],
   "id": "d6af20f6421dc984"
  },
  {
   "metadata": {},
   "cell_type": "code",
   "outputs": [],
   "execution_count": null,
   "source": [
    "# 12/数据分析:\n",
    "# 计算数据集的均值、方差、标准差等统计量。\n",
    "# 对数据进行归一化处理。\n",
    "# 计算两个变量之间的相关系数。"
   ],
   "id": "4e03b5af4b1026c3"
  },
  {
   "metadata": {},
   "cell_type": "code",
   "outputs": [],
   "execution_count": null,
   "source": [
    "# 13/机器学习:\n",
    "# 实现一个简单的线性回归模型。\n",
    "# 实现一个简单的逻辑回归模型。\n",
    "# 使用NumPy实现一个神经网络的前向传播和反向传播。"
   ],
   "id": "6485b7226177c459"
  },
  {
   "metadata": {},
   "cell_type": "markdown",
   "source": "# 拓展练习",
   "id": "81455904253d6fe6"
  },
  {
   "metadata": {},
   "cell_type": "code",
   "outputs": [],
   "execution_count": null,
   "source": [
    "# 14/自定义函数:\n",
    "# 定义一个函数，计算数组中所有元素的平方和。\n",
    "# 定义一个函数，实现矩阵的加法。"
   ],
   "id": "7713b4def7d6f602"
  },
  {
   "metadata": {},
   "cell_type": "code",
   "outputs": [],
   "execution_count": null,
   "source": [
    "# 15/性能优化:\n",
    "# 比较不同方法计算矩阵乘积的效率。\n",
    "# 使用向量化操作加速计算。"
   ],
   "id": "81539f936ae5864f"
  },
  {
   "metadata": {},
   "cell_type": "code",
   "outputs": [],
   "execution_count": null,
   "source": [
    "# 16/NumPy与其他库的结合:\n",
    "# 将NumPy与Matplotlib结合，绘制图形。\n",
    "# 将NumPy与Pandas结合，进行数据分析。"
   ],
   "id": "7221d377010f48bd"
  },
  {
   "metadata": {},
   "cell_type": "code",
   "outputs": [],
   "execution_count": null,
   "source": [
    "# 17/生成随机数:\n",
    "# 生成服从正态分布的随机数。\n",
    "# 生成随机整数。"
   ],
   "id": "6b48d0bf1d9cbcc4"
  },
  {
   "metadata": {},
   "cell_type": "code",
   "outputs": [],
   "execution_count": null,
   "source": [
    "# 18/数组的合并和分割:\n",
    "# 将多个数组合并成一个大的数组。\n",
    "# 将一个数组分割成多个小的数组。"
   ],
   "id": "c4846995fad58d31"
  },
  {
   "metadata": {},
   "cell_type": "code",
   "outputs": [],
   "execution_count": null,
   "source": [
    "# 19/数组的保存和加载:\n",
    "# 将NumPy数组保存为文件。\n",
    "# 从文件中加载NumPy数组。"
   ],
   "id": "c3e1e7c2ebe999d7"
  },
  {
   "metadata": {},
   "cell_type": "code",
   "outputs": [],
   "execution_count": null,
   "source": [
    "# 20/字符串操作:\n",
    "# 将一个字符串数组中的每个元素都转换为大写。\n",
    "# 将一个字符串数组中的每个元素都分割成子字符串。"
   ],
   "id": "8ec9373049371339"
  }
 ],
 "metadata": {
  "kernelspec": {
   "display_name": "Python 3",
   "language": "python",
   "name": "python3"
  },
  "language_info": {
   "codemirror_mode": {
    "name": "ipython",
    "version": 2
   },
   "file_extension": ".py",
   "mimetype": "text/x-python",
   "name": "python",
   "nbconvert_exporter": "python",
   "pygments_lexer": "ipython2",
   "version": "2.7.6"
  }
 },
 "nbformat": 4,
 "nbformat_minor": 5
}
