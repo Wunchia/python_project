{
 "cells": [
  {
   "cell_type": "code",
   "execution_count": null,
   "id": "initial_id",
   "metadata": {
    "collapsed": true
   },
   "outputs": [],
   "source": [
    "# 1、完成DictVectorizer，CountVectorizer, TfidfVectorizer的练习，并理解其原理\n",
    "# 2、MinMaxScaler, StandardScaler练习并理解原理\n",
    "# 3、完成SimpleImputer的练习\n",
    "# 4、完成VarianceThreshold，PCA的练习并理解原理\n",
    "# 5、完成load及fetch数据加载，搞清数据集的特征和目标，train_test_split样本切分"
   ]
  }
 ],
 "metadata": {
  "kernelspec": {
   "display_name": "Python 3",
   "language": "python",
   "name": "python3"
  },
  "language_info": {
   "codemirror_mode": {
    "name": "ipython",
    "version": 2
   },
   "file_extension": ".py",
   "mimetype": "text/x-python",
   "name": "python",
   "nbconvert_exporter": "python",
   "pygments_lexer": "ipython2",
   "version": "2.7.6"
  }
 },
 "nbformat": 4,
 "nbformat_minor": 5
}
