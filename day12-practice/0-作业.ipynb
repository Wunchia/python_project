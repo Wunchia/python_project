{
 "cells": [
  {
   "cell_type": "code",
   "execution_count": null,
   "id": "initial_id",
   "metadata": {
    "collapsed": true
   },
   "outputs": [],
   "source": [
    "# 1、完成nan和inf的使用，掌握数组中nan值去除，替换为对应列的平均值\n",
    "# 2、np二维数组转置练习，轴滚动练习\n",
    "# 3、练习series和df的索引操作,函数应用\n",
    "# 4、练习处理缺失数据，统计与计算\n",
    "# \n",
    "# 5、Numpy youtube数据读取练习，并通过matplotlib绘制直方图，散点图\n",
    "# 6、练习对齐运算，层级索引，设置索引，时间序列"
   ]
  }
 ],
 "metadata": {
  "kernelspec": {
   "display_name": "Python 3",
   "language": "python",
   "name": "python3"
  },
  "language_info": {
   "codemirror_mode": {
    "name": "ipython",
    "version": 2
   },
   "file_extension": ".py",
   "mimetype": "text/x-python",
   "name": "python",
   "nbconvert_exporter": "python",
   "pygments_lexer": "ipython2",
   "version": "2.7.6"
  }
 },
 "nbformat": 4,
 "nbformat_minor": 5
}
